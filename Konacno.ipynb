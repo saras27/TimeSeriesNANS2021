{
 "cells": [
  {
   "cell_type": "code",
   "execution_count": 1,
   "id": "4ffa1654",
   "metadata": {},
   "outputs": [],
   "source": [
    "import matplotlib\n",
    "import matplotlib.pyplot as plt\n",
    "import seaborn as sb\n",
    "import pandas as pd\n",
    "import numpy as np\n",
    "import gc\n",
    "import statsmodels.api as sm\n",
    "matplotlib.rcParams['figure.figsize'] = (8, 4)\n",
    "sb.set(font_scale=1.)\n"
   ]
  },
  {
   "cell_type": "code",
   "execution_count": 2,
   "id": "3143b8fe",
   "metadata": {},
   "outputs": [],
   "source": [
    "#ucitavanje podataka\n",
    "\n",
    "df = pd.read_csv('online_retail_II.csv', sep=',')"
   ]
  },
  {
   "cell_type": "code",
   "execution_count": 190,
   "id": "9fda241d",
   "metadata": {},
   "outputs": [],
   "source": [
    "# Pregled nekoliko pocetnih i krajnjih vrednosti ucitanih podatka"
   ]
  },
  {
   "cell_type": "code",
   "execution_count": 3,
   "id": "669089fb",
   "metadata": {},
   "outputs": [
    {
     "data": {
      "text/html": [
       "<div>\n",
       "<style scoped>\n",
       "    .dataframe tbody tr th:only-of-type {\n",
       "        vertical-align: middle;\n",
       "    }\n",
       "\n",
       "    .dataframe tbody tr th {\n",
       "        vertical-align: top;\n",
       "    }\n",
       "\n",
       "    .dataframe thead th {\n",
       "        text-align: right;\n",
       "    }\n",
       "</style>\n",
       "<table border=\"1\" class=\"dataframe\">\n",
       "  <thead>\n",
       "    <tr style=\"text-align: right;\">\n",
       "      <th></th>\n",
       "      <th>Invoice</th>\n",
       "      <th>StockCode</th>\n",
       "      <th>Description</th>\n",
       "      <th>Quantity</th>\n",
       "      <th>InvoiceDate</th>\n",
       "      <th>Price</th>\n",
       "      <th>Customer ID</th>\n",
       "      <th>Country</th>\n",
       "    </tr>\n",
       "  </thead>\n",
       "  <tbody>\n",
       "    <tr>\n",
       "      <th>0</th>\n",
       "      <td>489434</td>\n",
       "      <td>85048</td>\n",
       "      <td>15CM CHRISTMAS GLASS BALL 20 LIGHTS</td>\n",
       "      <td>12</td>\n",
       "      <td>2009-12-01 07:45:00</td>\n",
       "      <td>6.95</td>\n",
       "      <td>13085.0</td>\n",
       "      <td>United Kingdom</td>\n",
       "    </tr>\n",
       "    <tr>\n",
       "      <th>1</th>\n",
       "      <td>489434</td>\n",
       "      <td>79323P</td>\n",
       "      <td>PINK CHERRY LIGHTS</td>\n",
       "      <td>12</td>\n",
       "      <td>2009-12-01 07:45:00</td>\n",
       "      <td>6.75</td>\n",
       "      <td>13085.0</td>\n",
       "      <td>United Kingdom</td>\n",
       "    </tr>\n",
       "    <tr>\n",
       "      <th>2</th>\n",
       "      <td>489434</td>\n",
       "      <td>79323W</td>\n",
       "      <td>WHITE CHERRY LIGHTS</td>\n",
       "      <td>12</td>\n",
       "      <td>2009-12-01 07:45:00</td>\n",
       "      <td>6.75</td>\n",
       "      <td>13085.0</td>\n",
       "      <td>United Kingdom</td>\n",
       "    </tr>\n",
       "    <tr>\n",
       "      <th>3</th>\n",
       "      <td>489434</td>\n",
       "      <td>22041</td>\n",
       "      <td>RECORD FRAME 7\" SINGLE SIZE</td>\n",
       "      <td>48</td>\n",
       "      <td>2009-12-01 07:45:00</td>\n",
       "      <td>2.10</td>\n",
       "      <td>13085.0</td>\n",
       "      <td>United Kingdom</td>\n",
       "    </tr>\n",
       "    <tr>\n",
       "      <th>4</th>\n",
       "      <td>489434</td>\n",
       "      <td>21232</td>\n",
       "      <td>STRAWBERRY CERAMIC TRINKET BOX</td>\n",
       "      <td>24</td>\n",
       "      <td>2009-12-01 07:45:00</td>\n",
       "      <td>1.25</td>\n",
       "      <td>13085.0</td>\n",
       "      <td>United Kingdom</td>\n",
       "    </tr>\n",
       "  </tbody>\n",
       "</table>\n",
       "</div>"
      ],
      "text/plain": [
       "  Invoice StockCode                          Description  Quantity  \\\n",
       "0  489434     85048  15CM CHRISTMAS GLASS BALL 20 LIGHTS        12   \n",
       "1  489434    79323P                   PINK CHERRY LIGHTS        12   \n",
       "2  489434    79323W                  WHITE CHERRY LIGHTS        12   \n",
       "3  489434     22041         RECORD FRAME 7\" SINGLE SIZE         48   \n",
       "4  489434     21232       STRAWBERRY CERAMIC TRINKET BOX        24   \n",
       "\n",
       "           InvoiceDate  Price  Customer ID         Country  \n",
       "0  2009-12-01 07:45:00   6.95      13085.0  United Kingdom  \n",
       "1  2009-12-01 07:45:00   6.75      13085.0  United Kingdom  \n",
       "2  2009-12-01 07:45:00   6.75      13085.0  United Kingdom  \n",
       "3  2009-12-01 07:45:00   2.10      13085.0  United Kingdom  \n",
       "4  2009-12-01 07:45:00   1.25      13085.0  United Kingdom  "
      ]
     },
     "execution_count": 3,
     "metadata": {},
     "output_type": "execute_result"
    }
   ],
   "source": [
    "df.head()"
   ]
  },
  {
   "cell_type": "code",
   "execution_count": 4,
   "id": "f6999bf0",
   "metadata": {},
   "outputs": [
    {
     "data": {
      "text/html": [
       "<div>\n",
       "<style scoped>\n",
       "    .dataframe tbody tr th:only-of-type {\n",
       "        vertical-align: middle;\n",
       "    }\n",
       "\n",
       "    .dataframe tbody tr th {\n",
       "        vertical-align: top;\n",
       "    }\n",
       "\n",
       "    .dataframe thead th {\n",
       "        text-align: right;\n",
       "    }\n",
       "</style>\n",
       "<table border=\"1\" class=\"dataframe\">\n",
       "  <thead>\n",
       "    <tr style=\"text-align: right;\">\n",
       "      <th></th>\n",
       "      <th>Invoice</th>\n",
       "      <th>StockCode</th>\n",
       "      <th>Description</th>\n",
       "      <th>Quantity</th>\n",
       "      <th>InvoiceDate</th>\n",
       "      <th>Price</th>\n",
       "      <th>Customer ID</th>\n",
       "      <th>Country</th>\n",
       "    </tr>\n",
       "  </thead>\n",
       "  <tbody>\n",
       "    <tr>\n",
       "      <th>1067366</th>\n",
       "      <td>581587</td>\n",
       "      <td>22899</td>\n",
       "      <td>CHILDREN'S APRON DOLLY GIRL</td>\n",
       "      <td>6</td>\n",
       "      <td>2011-12-09 12:50:00</td>\n",
       "      <td>2.10</td>\n",
       "      <td>12680.0</td>\n",
       "      <td>France</td>\n",
       "    </tr>\n",
       "    <tr>\n",
       "      <th>1067367</th>\n",
       "      <td>581587</td>\n",
       "      <td>23254</td>\n",
       "      <td>CHILDRENS CUTLERY DOLLY GIRL</td>\n",
       "      <td>4</td>\n",
       "      <td>2011-12-09 12:50:00</td>\n",
       "      <td>4.15</td>\n",
       "      <td>12680.0</td>\n",
       "      <td>France</td>\n",
       "    </tr>\n",
       "    <tr>\n",
       "      <th>1067368</th>\n",
       "      <td>581587</td>\n",
       "      <td>23255</td>\n",
       "      <td>CHILDRENS CUTLERY CIRCUS PARADE</td>\n",
       "      <td>4</td>\n",
       "      <td>2011-12-09 12:50:00</td>\n",
       "      <td>4.15</td>\n",
       "      <td>12680.0</td>\n",
       "      <td>France</td>\n",
       "    </tr>\n",
       "    <tr>\n",
       "      <th>1067369</th>\n",
       "      <td>581587</td>\n",
       "      <td>22138</td>\n",
       "      <td>BAKING SET 9 PIECE RETROSPOT</td>\n",
       "      <td>3</td>\n",
       "      <td>2011-12-09 12:50:00</td>\n",
       "      <td>4.95</td>\n",
       "      <td>12680.0</td>\n",
       "      <td>France</td>\n",
       "    </tr>\n",
       "    <tr>\n",
       "      <th>1067370</th>\n",
       "      <td>581587</td>\n",
       "      <td>POST</td>\n",
       "      <td>POSTAGE</td>\n",
       "      <td>1</td>\n",
       "      <td>2011-12-09 12:50:00</td>\n",
       "      <td>18.00</td>\n",
       "      <td>12680.0</td>\n",
       "      <td>France</td>\n",
       "    </tr>\n",
       "  </tbody>\n",
       "</table>\n",
       "</div>"
      ],
      "text/plain": [
       "        Invoice StockCode                      Description  Quantity  \\\n",
       "1067366  581587     22899     CHILDREN'S APRON DOLLY GIRL          6   \n",
       "1067367  581587     23254    CHILDRENS CUTLERY DOLLY GIRL          4   \n",
       "1067368  581587     23255  CHILDRENS CUTLERY CIRCUS PARADE         4   \n",
       "1067369  581587     22138    BAKING SET 9 PIECE RETROSPOT          3   \n",
       "1067370  581587      POST                          POSTAGE         1   \n",
       "\n",
       "                 InvoiceDate  Price  Customer ID Country  \n",
       "1067366  2011-12-09 12:50:00   2.10      12680.0  France  \n",
       "1067367  2011-12-09 12:50:00   4.15      12680.0  France  \n",
       "1067368  2011-12-09 12:50:00   4.15      12680.0  France  \n",
       "1067369  2011-12-09 12:50:00   4.95      12680.0  France  \n",
       "1067370  2011-12-09 12:50:00  18.00      12680.0  France  "
      ]
     },
     "execution_count": 4,
     "metadata": {},
     "output_type": "execute_result"
    }
   ],
   "source": [
    "df.tail()"
   ]
  },
  {
   "cell_type": "code",
   "execution_count": 193,
   "id": "ffc4cd66",
   "metadata": {},
   "outputs": [],
   "source": [
    "#kratka analiza tiipa podataka"
   ]
  },
  {
   "cell_type": "code",
   "execution_count": 5,
   "id": "102d9cd3",
   "metadata": {},
   "outputs": [
    {
     "data": {
      "text/html": [
       "<div>\n",
       "<style scoped>\n",
       "    .dataframe tbody tr th:only-of-type {\n",
       "        vertical-align: middle;\n",
       "    }\n",
       "\n",
       "    .dataframe tbody tr th {\n",
       "        vertical-align: top;\n",
       "    }\n",
       "\n",
       "    .dataframe thead th {\n",
       "        text-align: right;\n",
       "    }\n",
       "</style>\n",
       "<table border=\"1\" class=\"dataframe\">\n",
       "  <thead>\n",
       "    <tr style=\"text-align: right;\">\n",
       "      <th></th>\n",
       "      <th>Quantity</th>\n",
       "      <th>Price</th>\n",
       "      <th>Customer ID</th>\n",
       "    </tr>\n",
       "  </thead>\n",
       "  <tbody>\n",
       "    <tr>\n",
       "      <th>count</th>\n",
       "      <td>1.067371e+06</td>\n",
       "      <td>1.067371e+06</td>\n",
       "      <td>824364.000000</td>\n",
       "    </tr>\n",
       "    <tr>\n",
       "      <th>mean</th>\n",
       "      <td>9.938898e+00</td>\n",
       "      <td>4.649388e+00</td>\n",
       "      <td>15324.638504</td>\n",
       "    </tr>\n",
       "    <tr>\n",
       "      <th>std</th>\n",
       "      <td>1.727058e+02</td>\n",
       "      <td>1.235531e+02</td>\n",
       "      <td>1697.464450</td>\n",
       "    </tr>\n",
       "    <tr>\n",
       "      <th>min</th>\n",
       "      <td>-8.099500e+04</td>\n",
       "      <td>-5.359436e+04</td>\n",
       "      <td>12346.000000</td>\n",
       "    </tr>\n",
       "    <tr>\n",
       "      <th>25%</th>\n",
       "      <td>1.000000e+00</td>\n",
       "      <td>1.250000e+00</td>\n",
       "      <td>13975.000000</td>\n",
       "    </tr>\n",
       "    <tr>\n",
       "      <th>50%</th>\n",
       "      <td>3.000000e+00</td>\n",
       "      <td>2.100000e+00</td>\n",
       "      <td>15255.000000</td>\n",
       "    </tr>\n",
       "    <tr>\n",
       "      <th>75%</th>\n",
       "      <td>1.000000e+01</td>\n",
       "      <td>4.150000e+00</td>\n",
       "      <td>16797.000000</td>\n",
       "    </tr>\n",
       "    <tr>\n",
       "      <th>max</th>\n",
       "      <td>8.099500e+04</td>\n",
       "      <td>3.897000e+04</td>\n",
       "      <td>18287.000000</td>\n",
       "    </tr>\n",
       "  </tbody>\n",
       "</table>\n",
       "</div>"
      ],
      "text/plain": [
       "           Quantity         Price    Customer ID\n",
       "count  1.067371e+06  1.067371e+06  824364.000000\n",
       "mean   9.938898e+00  4.649388e+00   15324.638504\n",
       "std    1.727058e+02  1.235531e+02    1697.464450\n",
       "min   -8.099500e+04 -5.359436e+04   12346.000000\n",
       "25%    1.000000e+00  1.250000e+00   13975.000000\n",
       "50%    3.000000e+00  2.100000e+00   15255.000000\n",
       "75%    1.000000e+01  4.150000e+00   16797.000000\n",
       "max    8.099500e+04  3.897000e+04   18287.000000"
      ]
     },
     "execution_count": 5,
     "metadata": {},
     "output_type": "execute_result"
    }
   ],
   "source": [
    "df.describe()"
   ]
  },
  {
   "cell_type": "code",
   "execution_count": 6,
   "id": "c463dd6a",
   "metadata": {},
   "outputs": [
    {
     "data": {
      "text/plain": [
       "Invoice         object\n",
       "StockCode       object\n",
       "Description     object\n",
       "Quantity         int64\n",
       "InvoiceDate     object\n",
       "Price          float64\n",
       "Customer ID    float64\n",
       "Country         object\n",
       "dtype: object"
      ]
     },
     "execution_count": 6,
     "metadata": {},
     "output_type": "execute_result"
    }
   ],
   "source": [
    "df.dtypes"
   ]
  },
  {
   "cell_type": "code",
   "execution_count": 7,
   "id": "9cf53a0f",
   "metadata": {},
   "outputs": [
    {
     "data": {
      "text/plain": [
       "(1067371, 8)"
      ]
     },
     "execution_count": 7,
     "metadata": {},
     "output_type": "execute_result"
    }
   ],
   "source": [
    "df.shape"
   ]
  },
  {
   "cell_type": "code",
   "execution_count": 197,
   "id": "dd51a4d2",
   "metadata": {},
   "outputs": [],
   "source": [
    "#Ispitivanje koliko razlicitih proizvoda imamo"
   ]
  },
  {
   "cell_type": "code",
   "execution_count": 8,
   "id": "93be0c12",
   "metadata": {},
   "outputs": [
    {
     "data": {
      "text/plain": [
       "array(['85048', '79323P', '79323W', ..., '23609', '23617', '23843'],\n",
       "      dtype=object)"
      ]
     },
     "execution_count": 8,
     "metadata": {},
     "output_type": "execute_result"
    }
   ],
   "source": [
    "df['StockCode'].unique()"
   ]
  },
  {
   "cell_type": "code",
   "execution_count": 9,
   "id": "e99efd9e",
   "metadata": {},
   "outputs": [
    {
     "data": {
      "text/plain": [
       "5305"
      ]
     },
     "execution_count": 9,
     "metadata": {},
     "output_type": "execute_result"
    }
   ],
   "source": [
    "df['StockCode'].nunique()"
   ]
  },
  {
   "cell_type": "code",
   "execution_count": 10,
   "id": "fea6ad13",
   "metadata": {},
   "outputs": [
    {
     "data": {
      "text/plain": [
       "array(['15CM CHRISTMAS GLASS BALL 20 LIGHTS', 'PINK CHERRY LIGHTS',\n",
       "       ' WHITE CHERRY LIGHTS', ..., 'mixed up',\n",
       "       'CREAM HANGING HEART T-LIGHT HOLDER',\n",
       "       'PAPER CRAFT , LITTLE BIRDIE'], dtype=object)"
      ]
     },
     "execution_count": 10,
     "metadata": {},
     "output_type": "execute_result"
    }
   ],
   "source": [
    "df['Description'].unique()"
   ]
  },
  {
   "cell_type": "code",
   "execution_count": 11,
   "id": "1e8928f7",
   "metadata": {},
   "outputs": [
    {
     "data": {
      "text/plain": [
       "5698"
      ]
     },
     "execution_count": 11,
     "metadata": {},
     "output_type": "execute_result"
    }
   ],
   "source": [
    "df['Description'].nunique()"
   ]
  },
  {
   "cell_type": "code",
   "execution_count": 12,
   "id": "46469496",
   "metadata": {},
   "outputs": [],
   "source": [
    "#Pretvaranje InvoiceDate labele u DateTime vrednosti"
   ]
  },
  {
   "cell_type": "code",
   "execution_count": 13,
   "id": "9195756a",
   "metadata": {},
   "outputs": [],
   "source": [
    "df['InvoiceDate'] = pd.to_datetime(df['InvoiceDate'])"
   ]
  },
  {
   "cell_type": "code",
   "execution_count": 14,
   "id": "c664ac0f",
   "metadata": {},
   "outputs": [
    {
     "data": {
      "text/html": [
       "<div>\n",
       "<style scoped>\n",
       "    .dataframe tbody tr th:only-of-type {\n",
       "        vertical-align: middle;\n",
       "    }\n",
       "\n",
       "    .dataframe tbody tr th {\n",
       "        vertical-align: top;\n",
       "    }\n",
       "\n",
       "    .dataframe thead th {\n",
       "        text-align: right;\n",
       "    }\n",
       "</style>\n",
       "<table border=\"1\" class=\"dataframe\">\n",
       "  <thead>\n",
       "    <tr style=\"text-align: right;\">\n",
       "      <th></th>\n",
       "      <th>Invoice</th>\n",
       "      <th>StockCode</th>\n",
       "      <th>Description</th>\n",
       "      <th>Quantity</th>\n",
       "      <th>InvoiceDate</th>\n",
       "      <th>Price</th>\n",
       "      <th>Customer ID</th>\n",
       "      <th>Country</th>\n",
       "    </tr>\n",
       "  </thead>\n",
       "  <tbody>\n",
       "    <tr>\n",
       "      <th>0</th>\n",
       "      <td>489434</td>\n",
       "      <td>85048</td>\n",
       "      <td>15CM CHRISTMAS GLASS BALL 20 LIGHTS</td>\n",
       "      <td>12</td>\n",
       "      <td>2009-12-01 07:45:00</td>\n",
       "      <td>6.95</td>\n",
       "      <td>13085.0</td>\n",
       "      <td>United Kingdom</td>\n",
       "    </tr>\n",
       "    <tr>\n",
       "      <th>1</th>\n",
       "      <td>489434</td>\n",
       "      <td>79323P</td>\n",
       "      <td>PINK CHERRY LIGHTS</td>\n",
       "      <td>12</td>\n",
       "      <td>2009-12-01 07:45:00</td>\n",
       "      <td>6.75</td>\n",
       "      <td>13085.0</td>\n",
       "      <td>United Kingdom</td>\n",
       "    </tr>\n",
       "    <tr>\n",
       "      <th>2</th>\n",
       "      <td>489434</td>\n",
       "      <td>79323W</td>\n",
       "      <td>WHITE CHERRY LIGHTS</td>\n",
       "      <td>12</td>\n",
       "      <td>2009-12-01 07:45:00</td>\n",
       "      <td>6.75</td>\n",
       "      <td>13085.0</td>\n",
       "      <td>United Kingdom</td>\n",
       "    </tr>\n",
       "    <tr>\n",
       "      <th>3</th>\n",
       "      <td>489434</td>\n",
       "      <td>22041</td>\n",
       "      <td>RECORD FRAME 7\" SINGLE SIZE</td>\n",
       "      <td>48</td>\n",
       "      <td>2009-12-01 07:45:00</td>\n",
       "      <td>2.10</td>\n",
       "      <td>13085.0</td>\n",
       "      <td>United Kingdom</td>\n",
       "    </tr>\n",
       "    <tr>\n",
       "      <th>4</th>\n",
       "      <td>489434</td>\n",
       "      <td>21232</td>\n",
       "      <td>STRAWBERRY CERAMIC TRINKET BOX</td>\n",
       "      <td>24</td>\n",
       "      <td>2009-12-01 07:45:00</td>\n",
       "      <td>1.25</td>\n",
       "      <td>13085.0</td>\n",
       "      <td>United Kingdom</td>\n",
       "    </tr>\n",
       "  </tbody>\n",
       "</table>\n",
       "</div>"
      ],
      "text/plain": [
       "  Invoice StockCode                          Description  Quantity  \\\n",
       "0  489434     85048  15CM CHRISTMAS GLASS BALL 20 LIGHTS        12   \n",
       "1  489434    79323P                   PINK CHERRY LIGHTS        12   \n",
       "2  489434    79323W                  WHITE CHERRY LIGHTS        12   \n",
       "3  489434     22041         RECORD FRAME 7\" SINGLE SIZE         48   \n",
       "4  489434     21232       STRAWBERRY CERAMIC TRINKET BOX        24   \n",
       "\n",
       "          InvoiceDate  Price  Customer ID         Country  \n",
       "0 2009-12-01 07:45:00   6.95      13085.0  United Kingdom  \n",
       "1 2009-12-01 07:45:00   6.75      13085.0  United Kingdom  \n",
       "2 2009-12-01 07:45:00   6.75      13085.0  United Kingdom  \n",
       "3 2009-12-01 07:45:00   2.10      13085.0  United Kingdom  \n",
       "4 2009-12-01 07:45:00   1.25      13085.0  United Kingdom  "
      ]
     },
     "execution_count": 14,
     "metadata": {},
     "output_type": "execute_result"
    }
   ],
   "source": [
    "df.head()"
   ]
  },
  {
   "cell_type": "code",
   "execution_count": 205,
   "id": "8f3a3042",
   "metadata": {},
   "outputs": [],
   "source": [
    "#pretvaranje Customer ID u string "
   ]
  },
  {
   "cell_type": "code",
   "execution_count": 15,
   "id": "66506c09",
   "metadata": {},
   "outputs": [],
   "source": [
    "df['Customer ID'] = df['Customer ID'].apply(str)"
   ]
  },
  {
   "cell_type": "code",
   "execution_count": 16,
   "id": "03b15b5e",
   "metadata": {},
   "outputs": [
    {
     "data": {
      "text/html": [
       "<div>\n",
       "<style scoped>\n",
       "    .dataframe tbody tr th:only-of-type {\n",
       "        vertical-align: middle;\n",
       "    }\n",
       "\n",
       "    .dataframe tbody tr th {\n",
       "        vertical-align: top;\n",
       "    }\n",
       "\n",
       "    .dataframe thead th {\n",
       "        text-align: right;\n",
       "    }\n",
       "</style>\n",
       "<table border=\"1\" class=\"dataframe\">\n",
       "  <thead>\n",
       "    <tr style=\"text-align: right;\">\n",
       "      <th></th>\n",
       "      <th>Invoice</th>\n",
       "      <th>StockCode</th>\n",
       "      <th>Description</th>\n",
       "      <th>Quantity</th>\n",
       "      <th>InvoiceDate</th>\n",
       "      <th>Price</th>\n",
       "      <th>Customer ID</th>\n",
       "      <th>Country</th>\n",
       "    </tr>\n",
       "  </thead>\n",
       "  <tbody>\n",
       "    <tr>\n",
       "      <th>0</th>\n",
       "      <td>489434</td>\n",
       "      <td>85048</td>\n",
       "      <td>15CM CHRISTMAS GLASS BALL 20 LIGHTS</td>\n",
       "      <td>12</td>\n",
       "      <td>2009-12-01 07:45:00</td>\n",
       "      <td>6.95</td>\n",
       "      <td>13085.0</td>\n",
       "      <td>United Kingdom</td>\n",
       "    </tr>\n",
       "    <tr>\n",
       "      <th>1</th>\n",
       "      <td>489434</td>\n",
       "      <td>79323P</td>\n",
       "      <td>PINK CHERRY LIGHTS</td>\n",
       "      <td>12</td>\n",
       "      <td>2009-12-01 07:45:00</td>\n",
       "      <td>6.75</td>\n",
       "      <td>13085.0</td>\n",
       "      <td>United Kingdom</td>\n",
       "    </tr>\n",
       "    <tr>\n",
       "      <th>2</th>\n",
       "      <td>489434</td>\n",
       "      <td>79323W</td>\n",
       "      <td>WHITE CHERRY LIGHTS</td>\n",
       "      <td>12</td>\n",
       "      <td>2009-12-01 07:45:00</td>\n",
       "      <td>6.75</td>\n",
       "      <td>13085.0</td>\n",
       "      <td>United Kingdom</td>\n",
       "    </tr>\n",
       "    <tr>\n",
       "      <th>3</th>\n",
       "      <td>489434</td>\n",
       "      <td>22041</td>\n",
       "      <td>RECORD FRAME 7\" SINGLE SIZE</td>\n",
       "      <td>48</td>\n",
       "      <td>2009-12-01 07:45:00</td>\n",
       "      <td>2.10</td>\n",
       "      <td>13085.0</td>\n",
       "      <td>United Kingdom</td>\n",
       "    </tr>\n",
       "    <tr>\n",
       "      <th>4</th>\n",
       "      <td>489434</td>\n",
       "      <td>21232</td>\n",
       "      <td>STRAWBERRY CERAMIC TRINKET BOX</td>\n",
       "      <td>24</td>\n",
       "      <td>2009-12-01 07:45:00</td>\n",
       "      <td>1.25</td>\n",
       "      <td>13085.0</td>\n",
       "      <td>United Kingdom</td>\n",
       "    </tr>\n",
       "  </tbody>\n",
       "</table>\n",
       "</div>"
      ],
      "text/plain": [
       "  Invoice StockCode                          Description  Quantity  \\\n",
       "0  489434     85048  15CM CHRISTMAS GLASS BALL 20 LIGHTS        12   \n",
       "1  489434    79323P                   PINK CHERRY LIGHTS        12   \n",
       "2  489434    79323W                  WHITE CHERRY LIGHTS        12   \n",
       "3  489434     22041         RECORD FRAME 7\" SINGLE SIZE         48   \n",
       "4  489434     21232       STRAWBERRY CERAMIC TRINKET BOX        24   \n",
       "\n",
       "          InvoiceDate  Price Customer ID         Country  \n",
       "0 2009-12-01 07:45:00   6.95     13085.0  United Kingdom  \n",
       "1 2009-12-01 07:45:00   6.75     13085.0  United Kingdom  \n",
       "2 2009-12-01 07:45:00   6.75     13085.0  United Kingdom  \n",
       "3 2009-12-01 07:45:00   2.10     13085.0  United Kingdom  \n",
       "4 2009-12-01 07:45:00   1.25     13085.0  United Kingdom  "
      ]
     },
     "execution_count": 16,
     "metadata": {},
     "output_type": "execute_result"
    }
   ],
   "source": [
    "df.head()"
   ]
  },
  {
   "cell_type": "code",
   "execution_count": 17,
   "id": "c521b011",
   "metadata": {},
   "outputs": [
    {
     "data": {
      "text/plain": [
       "Invoice                object\n",
       "StockCode              object\n",
       "Description            object\n",
       "Quantity                int64\n",
       "InvoiceDate    datetime64[ns]\n",
       "Price                 float64\n",
       "Customer ID            object\n",
       "Country                object\n",
       "dtype: object"
      ]
     },
     "execution_count": 17,
     "metadata": {},
     "output_type": "execute_result"
    }
   ],
   "source": [
    "df.dtypes"
   ]
  },
  {
   "cell_type": "code",
   "execution_count": 18,
   "id": "79f00cb1",
   "metadata": {},
   "outputs": [
    {
     "data": {
      "text/plain": [
       "0"
      ]
     },
     "execution_count": 18,
     "metadata": {},
     "output_type": "execute_result"
    }
   ],
   "source": [
    "gc.collect()"
   ]
  },
  {
   "cell_type": "code",
   "execution_count": 209,
   "id": "dc3f8576",
   "metadata": {},
   "outputs": [],
   "source": [
    "#uklanjanje duplikata"
   ]
  },
  {
   "cell_type": "code",
   "execution_count": 19,
   "id": "526e083c",
   "metadata": {},
   "outputs": [
    {
     "data": {
      "text/plain": [
       "34335"
      ]
     },
     "execution_count": 19,
     "metadata": {},
     "output_type": "execute_result"
    }
   ],
   "source": [
    "df.duplicated().sum()"
   ]
  },
  {
   "cell_type": "code",
   "execution_count": 20,
   "id": "5cf052ce",
   "metadata": {},
   "outputs": [],
   "source": [
    "df.drop_duplicates(inplace = True)"
   ]
  },
  {
   "cell_type": "code",
   "execution_count": 21,
   "id": "8d268ba3",
   "metadata": {},
   "outputs": [
    {
     "data": {
      "text/plain": [
       "0"
      ]
     },
     "execution_count": 21,
     "metadata": {},
     "output_type": "execute_result"
    }
   ],
   "source": [
    "df.duplicated().sum()"
   ]
  },
  {
   "cell_type": "code",
   "execution_count": 215,
   "id": "3a5860d2",
   "metadata": {},
   "outputs": [],
   "source": [
    "#Provera da li postoje null vrednosti(NaN), i njihovo uklanjanje"
   ]
  },
  {
   "cell_type": "code",
   "execution_count": 22,
   "id": "b3680f7e",
   "metadata": {},
   "outputs": [
    {
     "data": {
      "text/plain": [
       "Invoice           0\n",
       "StockCode         0\n",
       "Description    4275\n",
       "Quantity          0\n",
       "InvoiceDate       0\n",
       "Price             0\n",
       "Customer ID       0\n",
       "Country           0\n",
       "dtype: int64"
      ]
     },
     "execution_count": 22,
     "metadata": {},
     "output_type": "execute_result"
    }
   ],
   "source": [
    "df.isnull().sum()"
   ]
  },
  {
   "cell_type": "code",
   "execution_count": 23,
   "id": "2eff75a3",
   "metadata": {},
   "outputs": [],
   "source": [
    "df.dropna(inplace = True)"
   ]
  },
  {
   "cell_type": "code",
   "execution_count": 24,
   "id": "e008af29",
   "metadata": {},
   "outputs": [
    {
     "data": {
      "text/plain": [
       "Invoice        0\n",
       "StockCode      0\n",
       "Description    0\n",
       "Quantity       0\n",
       "InvoiceDate    0\n",
       "Price          0\n",
       "Customer ID    0\n",
       "Country        0\n",
       "dtype: int64"
      ]
     },
     "execution_count": 24,
     "metadata": {},
     "output_type": "execute_result"
    }
   ],
   "source": [
    "df.isnull().sum()"
   ]
  },
  {
   "cell_type": "code",
   "execution_count": 219,
   "id": "dcb5e0e0",
   "metadata": {},
   "outputs": [],
   "source": [
    "#provera validnosti podataka unutar labela Price i Quantity"
   ]
  },
  {
   "cell_type": "code",
   "execution_count": 25,
   "id": "afa07232",
   "metadata": {},
   "outputs": [
    {
     "data": {
      "text/plain": [
       "Invoice        1744\n",
       "StockCode      1744\n",
       "Description    1744\n",
       "Quantity       1744\n",
       "InvoiceDate    1744\n",
       "Price          1744\n",
       "Customer ID    1744\n",
       "Country        1744\n",
       "dtype: int64"
      ]
     },
     "execution_count": 25,
     "metadata": {},
     "output_type": "execute_result"
    }
   ],
   "source": [
    "df[df['Price'] <= 0].count()"
   ]
  },
  {
   "cell_type": "code",
   "execution_count": 26,
   "id": "ae6c0100",
   "metadata": {},
   "outputs": [],
   "source": [
    "df.drop(df[df['Quantity'] <= 0].index, inplace = True)"
   ]
  },
  {
   "cell_type": "code",
   "execution_count": 27,
   "id": "85bd0a4c",
   "metadata": {},
   "outputs": [
    {
     "data": {
      "text/plain": [
       "Invoice        0\n",
       "StockCode      0\n",
       "Description    0\n",
       "Quantity       0\n",
       "InvoiceDate    0\n",
       "Price          0\n",
       "Customer ID    0\n",
       "Country        0\n",
       "dtype: int64"
      ]
     },
     "execution_count": 27,
     "metadata": {},
     "output_type": "execute_result"
    }
   ],
   "source": [
    "df[df['Quantity'] <= 0].count()"
   ]
  },
  {
   "cell_type": "code",
   "execution_count": 223,
   "id": "608a9cba",
   "metadata": {},
   "outputs": [],
   "source": [
    "#Formiranje TotalPrice labele"
   ]
  },
  {
   "cell_type": "code",
   "execution_count": 28,
   "id": "639f2541",
   "metadata": {},
   "outputs": [],
   "source": [
    "df['TotalPrice'] = df['Quantity'] * df['Price']"
   ]
  },
  {
   "cell_type": "code",
   "execution_count": 29,
   "id": "05a40fda",
   "metadata": {},
   "outputs": [
    {
     "data": {
      "text/plain": [
       "Invoice        984\n",
       "StockCode      984\n",
       "Description    984\n",
       "Quantity       984\n",
       "InvoiceDate    984\n",
       "Price          984\n",
       "Customer ID    984\n",
       "Country        984\n",
       "TotalPrice     984\n",
       "dtype: int64"
      ]
     },
     "execution_count": 29,
     "metadata": {},
     "output_type": "execute_result"
    }
   ],
   "source": [
    "df[df['TotalPrice']<=0].count()"
   ]
  },
  {
   "cell_type": "code",
   "execution_count": 30,
   "id": "e61077c7",
   "metadata": {},
   "outputs": [],
   "source": [
    "df.drop(df[df['TotalPrice']<=0].index, inplace = True)"
   ]
  },
  {
   "cell_type": "code",
   "execution_count": 31,
   "id": "5825a840",
   "metadata": {},
   "outputs": [
    {
     "data": {
      "text/html": [
       "<div>\n",
       "<style scoped>\n",
       "    .dataframe tbody tr th:only-of-type {\n",
       "        vertical-align: middle;\n",
       "    }\n",
       "\n",
       "    .dataframe tbody tr th {\n",
       "        vertical-align: top;\n",
       "    }\n",
       "\n",
       "    .dataframe thead th {\n",
       "        text-align: right;\n",
       "    }\n",
       "</style>\n",
       "<table border=\"1\" class=\"dataframe\">\n",
       "  <thead>\n",
       "    <tr style=\"text-align: right;\">\n",
       "      <th></th>\n",
       "      <th>Invoice</th>\n",
       "      <th>StockCode</th>\n",
       "      <th>Description</th>\n",
       "      <th>Quantity</th>\n",
       "      <th>InvoiceDate</th>\n",
       "      <th>Price</th>\n",
       "      <th>Customer ID</th>\n",
       "      <th>Country</th>\n",
       "      <th>TotalPrice</th>\n",
       "    </tr>\n",
       "  </thead>\n",
       "  <tbody>\n",
       "    <tr>\n",
       "      <th>0</th>\n",
       "      <td>489434</td>\n",
       "      <td>85048</td>\n",
       "      <td>15CM CHRISTMAS GLASS BALL 20 LIGHTS</td>\n",
       "      <td>12</td>\n",
       "      <td>2009-12-01 07:45:00</td>\n",
       "      <td>6.95</td>\n",
       "      <td>13085.0</td>\n",
       "      <td>United Kingdom</td>\n",
       "      <td>83.4</td>\n",
       "    </tr>\n",
       "    <tr>\n",
       "      <th>1</th>\n",
       "      <td>489434</td>\n",
       "      <td>79323P</td>\n",
       "      <td>PINK CHERRY LIGHTS</td>\n",
       "      <td>12</td>\n",
       "      <td>2009-12-01 07:45:00</td>\n",
       "      <td>6.75</td>\n",
       "      <td>13085.0</td>\n",
       "      <td>United Kingdom</td>\n",
       "      <td>81.0</td>\n",
       "    </tr>\n",
       "    <tr>\n",
       "      <th>2</th>\n",
       "      <td>489434</td>\n",
       "      <td>79323W</td>\n",
       "      <td>WHITE CHERRY LIGHTS</td>\n",
       "      <td>12</td>\n",
       "      <td>2009-12-01 07:45:00</td>\n",
       "      <td>6.75</td>\n",
       "      <td>13085.0</td>\n",
       "      <td>United Kingdom</td>\n",
       "      <td>81.0</td>\n",
       "    </tr>\n",
       "    <tr>\n",
       "      <th>3</th>\n",
       "      <td>489434</td>\n",
       "      <td>22041</td>\n",
       "      <td>RECORD FRAME 7\" SINGLE SIZE</td>\n",
       "      <td>48</td>\n",
       "      <td>2009-12-01 07:45:00</td>\n",
       "      <td>2.10</td>\n",
       "      <td>13085.0</td>\n",
       "      <td>United Kingdom</td>\n",
       "      <td>100.8</td>\n",
       "    </tr>\n",
       "    <tr>\n",
       "      <th>4</th>\n",
       "      <td>489434</td>\n",
       "      <td>21232</td>\n",
       "      <td>STRAWBERRY CERAMIC TRINKET BOX</td>\n",
       "      <td>24</td>\n",
       "      <td>2009-12-01 07:45:00</td>\n",
       "      <td>1.25</td>\n",
       "      <td>13085.0</td>\n",
       "      <td>United Kingdom</td>\n",
       "      <td>30.0</td>\n",
       "    </tr>\n",
       "  </tbody>\n",
       "</table>\n",
       "</div>"
      ],
      "text/plain": [
       "  Invoice StockCode                          Description  Quantity  \\\n",
       "0  489434     85048  15CM CHRISTMAS GLASS BALL 20 LIGHTS        12   \n",
       "1  489434    79323P                   PINK CHERRY LIGHTS        12   \n",
       "2  489434    79323W                  WHITE CHERRY LIGHTS        12   \n",
       "3  489434     22041         RECORD FRAME 7\" SINGLE SIZE         48   \n",
       "4  489434     21232       STRAWBERRY CERAMIC TRINKET BOX        24   \n",
       "\n",
       "          InvoiceDate  Price Customer ID         Country  TotalPrice  \n",
       "0 2009-12-01 07:45:00   6.95     13085.0  United Kingdom        83.4  \n",
       "1 2009-12-01 07:45:00   6.75     13085.0  United Kingdom        81.0  \n",
       "2 2009-12-01 07:45:00   6.75     13085.0  United Kingdom        81.0  \n",
       "3 2009-12-01 07:45:00   2.10     13085.0  United Kingdom       100.8  \n",
       "4 2009-12-01 07:45:00   1.25     13085.0  United Kingdom        30.0  "
      ]
     },
     "execution_count": 31,
     "metadata": {},
     "output_type": "execute_result"
    }
   ],
   "source": [
    "df.head()"
   ]
  },
  {
   "cell_type": "code",
   "execution_count": 228,
   "id": "d7893807",
   "metadata": {},
   "outputs": [],
   "source": [
    "#Podela InvoiceDate na godinu,mesec i dan(Podela transakcija na godisnjem,mesecnom i dnevnom nivou)"
   ]
  },
  {
   "cell_type": "code",
   "execution_count": 32,
   "id": "7ed73a2c",
   "metadata": {},
   "outputs": [],
   "source": [
    "df['Day'] = df['InvoiceDate'].dt.day\n",
    "df['Month'] = df['InvoiceDate'].dt.month\n",
    "df['Year'] = df['InvoiceDate'].dt.year"
   ]
  },
  {
   "cell_type": "code",
   "execution_count": 33,
   "id": "780b6edc",
   "metadata": {},
   "outputs": [
    {
     "data": {
      "text/html": [
       "<div>\n",
       "<style scoped>\n",
       "    .dataframe tbody tr th:only-of-type {\n",
       "        vertical-align: middle;\n",
       "    }\n",
       "\n",
       "    .dataframe tbody tr th {\n",
       "        vertical-align: top;\n",
       "    }\n",
       "\n",
       "    .dataframe thead th {\n",
       "        text-align: right;\n",
       "    }\n",
       "</style>\n",
       "<table border=\"1\" class=\"dataframe\">\n",
       "  <thead>\n",
       "    <tr style=\"text-align: right;\">\n",
       "      <th></th>\n",
       "      <th>Invoice</th>\n",
       "      <th>StockCode</th>\n",
       "      <th>Description</th>\n",
       "      <th>Quantity</th>\n",
       "      <th>InvoiceDate</th>\n",
       "      <th>Price</th>\n",
       "      <th>Customer ID</th>\n",
       "      <th>Country</th>\n",
       "      <th>TotalPrice</th>\n",
       "      <th>Day</th>\n",
       "      <th>Month</th>\n",
       "      <th>Year</th>\n",
       "    </tr>\n",
       "  </thead>\n",
       "  <tbody>\n",
       "    <tr>\n",
       "      <th>0</th>\n",
       "      <td>489434</td>\n",
       "      <td>85048</td>\n",
       "      <td>15CM CHRISTMAS GLASS BALL 20 LIGHTS</td>\n",
       "      <td>12</td>\n",
       "      <td>2009-12-01 07:45:00</td>\n",
       "      <td>6.95</td>\n",
       "      <td>13085.0</td>\n",
       "      <td>United Kingdom</td>\n",
       "      <td>83.4</td>\n",
       "      <td>1</td>\n",
       "      <td>12</td>\n",
       "      <td>2009</td>\n",
       "    </tr>\n",
       "    <tr>\n",
       "      <th>1</th>\n",
       "      <td>489434</td>\n",
       "      <td>79323P</td>\n",
       "      <td>PINK CHERRY LIGHTS</td>\n",
       "      <td>12</td>\n",
       "      <td>2009-12-01 07:45:00</td>\n",
       "      <td>6.75</td>\n",
       "      <td>13085.0</td>\n",
       "      <td>United Kingdom</td>\n",
       "      <td>81.0</td>\n",
       "      <td>1</td>\n",
       "      <td>12</td>\n",
       "      <td>2009</td>\n",
       "    </tr>\n",
       "    <tr>\n",
       "      <th>2</th>\n",
       "      <td>489434</td>\n",
       "      <td>79323W</td>\n",
       "      <td>WHITE CHERRY LIGHTS</td>\n",
       "      <td>12</td>\n",
       "      <td>2009-12-01 07:45:00</td>\n",
       "      <td>6.75</td>\n",
       "      <td>13085.0</td>\n",
       "      <td>United Kingdom</td>\n",
       "      <td>81.0</td>\n",
       "      <td>1</td>\n",
       "      <td>12</td>\n",
       "      <td>2009</td>\n",
       "    </tr>\n",
       "    <tr>\n",
       "      <th>3</th>\n",
       "      <td>489434</td>\n",
       "      <td>22041</td>\n",
       "      <td>RECORD FRAME 7\" SINGLE SIZE</td>\n",
       "      <td>48</td>\n",
       "      <td>2009-12-01 07:45:00</td>\n",
       "      <td>2.10</td>\n",
       "      <td>13085.0</td>\n",
       "      <td>United Kingdom</td>\n",
       "      <td>100.8</td>\n",
       "      <td>1</td>\n",
       "      <td>12</td>\n",
       "      <td>2009</td>\n",
       "    </tr>\n",
       "    <tr>\n",
       "      <th>4</th>\n",
       "      <td>489434</td>\n",
       "      <td>21232</td>\n",
       "      <td>STRAWBERRY CERAMIC TRINKET BOX</td>\n",
       "      <td>24</td>\n",
       "      <td>2009-12-01 07:45:00</td>\n",
       "      <td>1.25</td>\n",
       "      <td>13085.0</td>\n",
       "      <td>United Kingdom</td>\n",
       "      <td>30.0</td>\n",
       "      <td>1</td>\n",
       "      <td>12</td>\n",
       "      <td>2009</td>\n",
       "    </tr>\n",
       "  </tbody>\n",
       "</table>\n",
       "</div>"
      ],
      "text/plain": [
       "  Invoice StockCode                          Description  Quantity  \\\n",
       "0  489434     85048  15CM CHRISTMAS GLASS BALL 20 LIGHTS        12   \n",
       "1  489434    79323P                   PINK CHERRY LIGHTS        12   \n",
       "2  489434    79323W                  WHITE CHERRY LIGHTS        12   \n",
       "3  489434     22041         RECORD FRAME 7\" SINGLE SIZE         48   \n",
       "4  489434     21232       STRAWBERRY CERAMIC TRINKET BOX        24   \n",
       "\n",
       "          InvoiceDate  Price Customer ID         Country  TotalPrice  Day  \\\n",
       "0 2009-12-01 07:45:00   6.95     13085.0  United Kingdom        83.4    1   \n",
       "1 2009-12-01 07:45:00   6.75     13085.0  United Kingdom        81.0    1   \n",
       "2 2009-12-01 07:45:00   6.75     13085.0  United Kingdom        81.0    1   \n",
       "3 2009-12-01 07:45:00   2.10     13085.0  United Kingdom       100.8    1   \n",
       "4 2009-12-01 07:45:00   1.25     13085.0  United Kingdom        30.0    1   \n",
       "\n",
       "   Month  Year  \n",
       "0     12  2009  \n",
       "1     12  2009  \n",
       "2     12  2009  \n",
       "3     12  2009  \n",
       "4     12  2009  "
      ]
     },
     "execution_count": 33,
     "metadata": {},
     "output_type": "execute_result"
    }
   ],
   "source": [
    "df.head()"
   ]
  },
  {
   "cell_type": "code",
   "execution_count": 231,
   "id": "e3cffe07",
   "metadata": {},
   "outputs": [],
   "source": [
    "#Pravljenje labele year_month od meseca i godine, koju cemo aksnije da koristimo za index\n",
    "#Treba uzeeti u obzir da zbog nacina na koji smo spajali ove dve labele, kada pretvorimo u datetime dobicemo i konkretan dan"
   ]
  },
  {
   "cell_type": "code",
   "execution_count": 34,
   "id": "7be9e4f6",
   "metadata": {},
   "outputs": [],
   "source": [
    "df['year_month'] = df['Year'].astype(str) + '-' + df['Month'].astype(str)\n",
    "\n",
    "# Convert 'year_month' to datetime\n",
    "df['year_month'] = pd.to_datetime(df['year_month'], format='%Y-%m')\n"
   ]
  },
  {
   "cell_type": "code",
   "execution_count": 35,
   "id": "0b66760b",
   "metadata": {},
   "outputs": [
    {
     "data": {
      "text/html": [
       "<div>\n",
       "<style scoped>\n",
       "    .dataframe tbody tr th:only-of-type {\n",
       "        vertical-align: middle;\n",
       "    }\n",
       "\n",
       "    .dataframe tbody tr th {\n",
       "        vertical-align: top;\n",
       "    }\n",
       "\n",
       "    .dataframe thead th {\n",
       "        text-align: right;\n",
       "    }\n",
       "</style>\n",
       "<table border=\"1\" class=\"dataframe\">\n",
       "  <thead>\n",
       "    <tr style=\"text-align: right;\">\n",
       "      <th></th>\n",
       "      <th>Invoice</th>\n",
       "      <th>StockCode</th>\n",
       "      <th>Description</th>\n",
       "      <th>Quantity</th>\n",
       "      <th>InvoiceDate</th>\n",
       "      <th>Price</th>\n",
       "      <th>Customer ID</th>\n",
       "      <th>Country</th>\n",
       "      <th>TotalPrice</th>\n",
       "      <th>Day</th>\n",
       "      <th>Month</th>\n",
       "      <th>Year</th>\n",
       "      <th>year_month</th>\n",
       "    </tr>\n",
       "  </thead>\n",
       "  <tbody>\n",
       "    <tr>\n",
       "      <th>0</th>\n",
       "      <td>489434</td>\n",
       "      <td>85048</td>\n",
       "      <td>15CM CHRISTMAS GLASS BALL 20 LIGHTS</td>\n",
       "      <td>12</td>\n",
       "      <td>2009-12-01 07:45:00</td>\n",
       "      <td>6.95</td>\n",
       "      <td>13085.0</td>\n",
       "      <td>United Kingdom</td>\n",
       "      <td>83.4</td>\n",
       "      <td>1</td>\n",
       "      <td>12</td>\n",
       "      <td>2009</td>\n",
       "      <td>2009-12-01</td>\n",
       "    </tr>\n",
       "    <tr>\n",
       "      <th>1</th>\n",
       "      <td>489434</td>\n",
       "      <td>79323P</td>\n",
       "      <td>PINK CHERRY LIGHTS</td>\n",
       "      <td>12</td>\n",
       "      <td>2009-12-01 07:45:00</td>\n",
       "      <td>6.75</td>\n",
       "      <td>13085.0</td>\n",
       "      <td>United Kingdom</td>\n",
       "      <td>81.0</td>\n",
       "      <td>1</td>\n",
       "      <td>12</td>\n",
       "      <td>2009</td>\n",
       "      <td>2009-12-01</td>\n",
       "    </tr>\n",
       "    <tr>\n",
       "      <th>2</th>\n",
       "      <td>489434</td>\n",
       "      <td>79323W</td>\n",
       "      <td>WHITE CHERRY LIGHTS</td>\n",
       "      <td>12</td>\n",
       "      <td>2009-12-01 07:45:00</td>\n",
       "      <td>6.75</td>\n",
       "      <td>13085.0</td>\n",
       "      <td>United Kingdom</td>\n",
       "      <td>81.0</td>\n",
       "      <td>1</td>\n",
       "      <td>12</td>\n",
       "      <td>2009</td>\n",
       "      <td>2009-12-01</td>\n",
       "    </tr>\n",
       "    <tr>\n",
       "      <th>3</th>\n",
       "      <td>489434</td>\n",
       "      <td>22041</td>\n",
       "      <td>RECORD FRAME 7\" SINGLE SIZE</td>\n",
       "      <td>48</td>\n",
       "      <td>2009-12-01 07:45:00</td>\n",
       "      <td>2.10</td>\n",
       "      <td>13085.0</td>\n",
       "      <td>United Kingdom</td>\n",
       "      <td>100.8</td>\n",
       "      <td>1</td>\n",
       "      <td>12</td>\n",
       "      <td>2009</td>\n",
       "      <td>2009-12-01</td>\n",
       "    </tr>\n",
       "    <tr>\n",
       "      <th>4</th>\n",
       "      <td>489434</td>\n",
       "      <td>21232</td>\n",
       "      <td>STRAWBERRY CERAMIC TRINKET BOX</td>\n",
       "      <td>24</td>\n",
       "      <td>2009-12-01 07:45:00</td>\n",
       "      <td>1.25</td>\n",
       "      <td>13085.0</td>\n",
       "      <td>United Kingdom</td>\n",
       "      <td>30.0</td>\n",
       "      <td>1</td>\n",
       "      <td>12</td>\n",
       "      <td>2009</td>\n",
       "      <td>2009-12-01</td>\n",
       "    </tr>\n",
       "  </tbody>\n",
       "</table>\n",
       "</div>"
      ],
      "text/plain": [
       "  Invoice StockCode                          Description  Quantity  \\\n",
       "0  489434     85048  15CM CHRISTMAS GLASS BALL 20 LIGHTS        12   \n",
       "1  489434    79323P                   PINK CHERRY LIGHTS        12   \n",
       "2  489434    79323W                  WHITE CHERRY LIGHTS        12   \n",
       "3  489434     22041         RECORD FRAME 7\" SINGLE SIZE         48   \n",
       "4  489434     21232       STRAWBERRY CERAMIC TRINKET BOX        24   \n",
       "\n",
       "          InvoiceDate  Price Customer ID         Country  TotalPrice  Day  \\\n",
       "0 2009-12-01 07:45:00   6.95     13085.0  United Kingdom        83.4    1   \n",
       "1 2009-12-01 07:45:00   6.75     13085.0  United Kingdom        81.0    1   \n",
       "2 2009-12-01 07:45:00   6.75     13085.0  United Kingdom        81.0    1   \n",
       "3 2009-12-01 07:45:00   2.10     13085.0  United Kingdom       100.8    1   \n",
       "4 2009-12-01 07:45:00   1.25     13085.0  United Kingdom        30.0    1   \n",
       "\n",
       "   Month  Year year_month  \n",
       "0     12  2009 2009-12-01  \n",
       "1     12  2009 2009-12-01  \n",
       "2     12  2009 2009-12-01  \n",
       "3     12  2009 2009-12-01  \n",
       "4     12  2009 2009-12-01  "
      ]
     },
     "execution_count": 35,
     "metadata": {},
     "output_type": "execute_result"
    }
   ],
   "source": [
    "df.head()"
   ]
  },
  {
   "cell_type": "code",
   "execution_count": 36,
   "id": "eb3861ac",
   "metadata": {},
   "outputs": [],
   "source": [
    "df=df.set_index('year_month')"
   ]
  },
  {
   "cell_type": "code",
   "execution_count": 37,
   "id": "45b1b9f7",
   "metadata": {},
   "outputs": [
    {
     "data": {
      "text/html": [
       "<div>\n",
       "<style scoped>\n",
       "    .dataframe tbody tr th:only-of-type {\n",
       "        vertical-align: middle;\n",
       "    }\n",
       "\n",
       "    .dataframe tbody tr th {\n",
       "        vertical-align: top;\n",
       "    }\n",
       "\n",
       "    .dataframe thead th {\n",
       "        text-align: right;\n",
       "    }\n",
       "</style>\n",
       "<table border=\"1\" class=\"dataframe\">\n",
       "  <thead>\n",
       "    <tr style=\"text-align: right;\">\n",
       "      <th></th>\n",
       "      <th>Invoice</th>\n",
       "      <th>StockCode</th>\n",
       "      <th>Description</th>\n",
       "      <th>Quantity</th>\n",
       "      <th>InvoiceDate</th>\n",
       "      <th>Price</th>\n",
       "      <th>Customer ID</th>\n",
       "      <th>Country</th>\n",
       "      <th>TotalPrice</th>\n",
       "      <th>Day</th>\n",
       "      <th>Month</th>\n",
       "      <th>Year</th>\n",
       "    </tr>\n",
       "    <tr>\n",
       "      <th>year_month</th>\n",
       "      <th></th>\n",
       "      <th></th>\n",
       "      <th></th>\n",
       "      <th></th>\n",
       "      <th></th>\n",
       "      <th></th>\n",
       "      <th></th>\n",
       "      <th></th>\n",
       "      <th></th>\n",
       "      <th></th>\n",
       "      <th></th>\n",
       "      <th></th>\n",
       "    </tr>\n",
       "  </thead>\n",
       "  <tbody>\n",
       "    <tr>\n",
       "      <th>2011-12-01</th>\n",
       "      <td>581587</td>\n",
       "      <td>22899</td>\n",
       "      <td>CHILDREN'S APRON DOLLY GIRL</td>\n",
       "      <td>6</td>\n",
       "      <td>2011-12-09 12:50:00</td>\n",
       "      <td>2.10</td>\n",
       "      <td>12680.0</td>\n",
       "      <td>France</td>\n",
       "      <td>12.60</td>\n",
       "      <td>9</td>\n",
       "      <td>12</td>\n",
       "      <td>2011</td>\n",
       "    </tr>\n",
       "    <tr>\n",
       "      <th>2011-12-01</th>\n",
       "      <td>581587</td>\n",
       "      <td>23254</td>\n",
       "      <td>CHILDRENS CUTLERY DOLLY GIRL</td>\n",
       "      <td>4</td>\n",
       "      <td>2011-12-09 12:50:00</td>\n",
       "      <td>4.15</td>\n",
       "      <td>12680.0</td>\n",
       "      <td>France</td>\n",
       "      <td>16.60</td>\n",
       "      <td>9</td>\n",
       "      <td>12</td>\n",
       "      <td>2011</td>\n",
       "    </tr>\n",
       "    <tr>\n",
       "      <th>2011-12-01</th>\n",
       "      <td>581587</td>\n",
       "      <td>23255</td>\n",
       "      <td>CHILDRENS CUTLERY CIRCUS PARADE</td>\n",
       "      <td>4</td>\n",
       "      <td>2011-12-09 12:50:00</td>\n",
       "      <td>4.15</td>\n",
       "      <td>12680.0</td>\n",
       "      <td>France</td>\n",
       "      <td>16.60</td>\n",
       "      <td>9</td>\n",
       "      <td>12</td>\n",
       "      <td>2011</td>\n",
       "    </tr>\n",
       "    <tr>\n",
       "      <th>2011-12-01</th>\n",
       "      <td>581587</td>\n",
       "      <td>22138</td>\n",
       "      <td>BAKING SET 9 PIECE RETROSPOT</td>\n",
       "      <td>3</td>\n",
       "      <td>2011-12-09 12:50:00</td>\n",
       "      <td>4.95</td>\n",
       "      <td>12680.0</td>\n",
       "      <td>France</td>\n",
       "      <td>14.85</td>\n",
       "      <td>9</td>\n",
       "      <td>12</td>\n",
       "      <td>2011</td>\n",
       "    </tr>\n",
       "    <tr>\n",
       "      <th>2011-12-01</th>\n",
       "      <td>581587</td>\n",
       "      <td>POST</td>\n",
       "      <td>POSTAGE</td>\n",
       "      <td>1</td>\n",
       "      <td>2011-12-09 12:50:00</td>\n",
       "      <td>18.00</td>\n",
       "      <td>12680.0</td>\n",
       "      <td>France</td>\n",
       "      <td>18.00</td>\n",
       "      <td>9</td>\n",
       "      <td>12</td>\n",
       "      <td>2011</td>\n",
       "    </tr>\n",
       "  </tbody>\n",
       "</table>\n",
       "</div>"
      ],
      "text/plain": [
       "           Invoice StockCode                      Description  Quantity  \\\n",
       "year_month                                                                \n",
       "2011-12-01  581587     22899     CHILDREN'S APRON DOLLY GIRL          6   \n",
       "2011-12-01  581587     23254    CHILDRENS CUTLERY DOLLY GIRL          4   \n",
       "2011-12-01  581587     23255  CHILDRENS CUTLERY CIRCUS PARADE         4   \n",
       "2011-12-01  581587     22138    BAKING SET 9 PIECE RETROSPOT          3   \n",
       "2011-12-01  581587      POST                          POSTAGE         1   \n",
       "\n",
       "                   InvoiceDate  Price Customer ID Country  TotalPrice  Day  \\\n",
       "year_month                                                                   \n",
       "2011-12-01 2011-12-09 12:50:00   2.10     12680.0  France       12.60    9   \n",
       "2011-12-01 2011-12-09 12:50:00   4.15     12680.0  France       16.60    9   \n",
       "2011-12-01 2011-12-09 12:50:00   4.15     12680.0  France       16.60    9   \n",
       "2011-12-01 2011-12-09 12:50:00   4.95     12680.0  France       14.85    9   \n",
       "2011-12-01 2011-12-09 12:50:00  18.00     12680.0  France       18.00    9   \n",
       "\n",
       "            Month  Year  \n",
       "year_month               \n",
       "2011-12-01     12  2011  \n",
       "2011-12-01     12  2011  \n",
       "2011-12-01     12  2011  \n",
       "2011-12-01     12  2011  \n",
       "2011-12-01     12  2011  "
      ]
     },
     "execution_count": 37,
     "metadata": {},
     "output_type": "execute_result"
    }
   ],
   "source": [
    "df.tail()"
   ]
  },
  {
   "cell_type": "code",
   "execution_count": 236,
   "id": "69e5416c",
   "metadata": {},
   "outputs": [],
   "source": [
    "#Posto je set podataka prevelik izdvjamo samo godinu od interesa, u ovom slucaju je to 2011 godina"
   ]
  },
  {
   "cell_type": "code",
   "execution_count": 38,
   "id": "8c620152",
   "metadata": {},
   "outputs": [],
   "source": [
    "df=df[df['Year']==2011]"
   ]
  },
  {
   "cell_type": "code",
   "execution_count": 39,
   "id": "429c20ac",
   "metadata": {},
   "outputs": [
    {
     "data": {
      "text/html": [
       "<div>\n",
       "<style scoped>\n",
       "    .dataframe tbody tr th:only-of-type {\n",
       "        vertical-align: middle;\n",
       "    }\n",
       "\n",
       "    .dataframe tbody tr th {\n",
       "        vertical-align: top;\n",
       "    }\n",
       "\n",
       "    .dataframe thead th {\n",
       "        text-align: right;\n",
       "    }\n",
       "</style>\n",
       "<table border=\"1\" class=\"dataframe\">\n",
       "  <thead>\n",
       "    <tr style=\"text-align: right;\">\n",
       "      <th></th>\n",
       "      <th>Invoice</th>\n",
       "      <th>StockCode</th>\n",
       "      <th>Description</th>\n",
       "      <th>Quantity</th>\n",
       "      <th>InvoiceDate</th>\n",
       "      <th>Price</th>\n",
       "      <th>Customer ID</th>\n",
       "      <th>Country</th>\n",
       "      <th>TotalPrice</th>\n",
       "      <th>Day</th>\n",
       "      <th>Month</th>\n",
       "      <th>Year</th>\n",
       "    </tr>\n",
       "    <tr>\n",
       "      <th>year_month</th>\n",
       "      <th></th>\n",
       "      <th></th>\n",
       "      <th></th>\n",
       "      <th></th>\n",
       "      <th></th>\n",
       "      <th></th>\n",
       "      <th></th>\n",
       "      <th></th>\n",
       "      <th></th>\n",
       "      <th></th>\n",
       "      <th></th>\n",
       "      <th></th>\n",
       "    </tr>\n",
       "  </thead>\n",
       "  <tbody>\n",
       "    <tr>\n",
       "      <th>2011-01-01</th>\n",
       "      <td>539993</td>\n",
       "      <td>22386</td>\n",
       "      <td>JUMBO BAG PINK POLKADOT</td>\n",
       "      <td>10</td>\n",
       "      <td>2011-01-04 10:00:00</td>\n",
       "      <td>1.95</td>\n",
       "      <td>13313.0</td>\n",
       "      <td>United Kingdom</td>\n",
       "      <td>19.5</td>\n",
       "      <td>4</td>\n",
       "      <td>1</td>\n",
       "      <td>2011</td>\n",
       "    </tr>\n",
       "    <tr>\n",
       "      <th>2011-01-01</th>\n",
       "      <td>539993</td>\n",
       "      <td>21499</td>\n",
       "      <td>BLUE POLKADOT WRAP</td>\n",
       "      <td>25</td>\n",
       "      <td>2011-01-04 10:00:00</td>\n",
       "      <td>0.42</td>\n",
       "      <td>13313.0</td>\n",
       "      <td>United Kingdom</td>\n",
       "      <td>10.5</td>\n",
       "      <td>4</td>\n",
       "      <td>1</td>\n",
       "      <td>2011</td>\n",
       "    </tr>\n",
       "    <tr>\n",
       "      <th>2011-01-01</th>\n",
       "      <td>539993</td>\n",
       "      <td>21498</td>\n",
       "      <td>RED RETROSPOT WRAP</td>\n",
       "      <td>25</td>\n",
       "      <td>2011-01-04 10:00:00</td>\n",
       "      <td>0.42</td>\n",
       "      <td>13313.0</td>\n",
       "      <td>United Kingdom</td>\n",
       "      <td>10.5</td>\n",
       "      <td>4</td>\n",
       "      <td>1</td>\n",
       "      <td>2011</td>\n",
       "    </tr>\n",
       "    <tr>\n",
       "      <th>2011-01-01</th>\n",
       "      <td>539993</td>\n",
       "      <td>22379</td>\n",
       "      <td>RECYCLING BAG RETROSPOT</td>\n",
       "      <td>5</td>\n",
       "      <td>2011-01-04 10:00:00</td>\n",
       "      <td>2.10</td>\n",
       "      <td>13313.0</td>\n",
       "      <td>United Kingdom</td>\n",
       "      <td>10.5</td>\n",
       "      <td>4</td>\n",
       "      <td>1</td>\n",
       "      <td>2011</td>\n",
       "    </tr>\n",
       "    <tr>\n",
       "      <th>2011-01-01</th>\n",
       "      <td>539993</td>\n",
       "      <td>20718</td>\n",
       "      <td>RED RETROSPOT SHOPPER BAG</td>\n",
       "      <td>10</td>\n",
       "      <td>2011-01-04 10:00:00</td>\n",
       "      <td>1.25</td>\n",
       "      <td>13313.0</td>\n",
       "      <td>United Kingdom</td>\n",
       "      <td>12.5</td>\n",
       "      <td>4</td>\n",
       "      <td>1</td>\n",
       "      <td>2011</td>\n",
       "    </tr>\n",
       "    <tr>\n",
       "      <th>2011-01-01</th>\n",
       "      <td>539993</td>\n",
       "      <td>85099B</td>\n",
       "      <td>JUMBO BAG RED RETROSPOT</td>\n",
       "      <td>10</td>\n",
       "      <td>2011-01-04 10:00:00</td>\n",
       "      <td>1.95</td>\n",
       "      <td>13313.0</td>\n",
       "      <td>United Kingdom</td>\n",
       "      <td>19.5</td>\n",
       "      <td>4</td>\n",
       "      <td>1</td>\n",
       "      <td>2011</td>\n",
       "    </tr>\n",
       "    <tr>\n",
       "      <th>2011-01-01</th>\n",
       "      <td>539993</td>\n",
       "      <td>20682</td>\n",
       "      <td>RED RETROSPOT CHILDRENS UMBRELLA</td>\n",
       "      <td>6</td>\n",
       "      <td>2011-01-04 10:00:00</td>\n",
       "      <td>3.25</td>\n",
       "      <td>13313.0</td>\n",
       "      <td>United Kingdom</td>\n",
       "      <td>19.5</td>\n",
       "      <td>4</td>\n",
       "      <td>1</td>\n",
       "      <td>2011</td>\n",
       "    </tr>\n",
       "    <tr>\n",
       "      <th>2011-01-01</th>\n",
       "      <td>539993</td>\n",
       "      <td>22961</td>\n",
       "      <td>JAM MAKING SET PRINTED</td>\n",
       "      <td>12</td>\n",
       "      <td>2011-01-04 10:00:00</td>\n",
       "      <td>1.45</td>\n",
       "      <td>13313.0</td>\n",
       "      <td>United Kingdom</td>\n",
       "      <td>17.4</td>\n",
       "      <td>4</td>\n",
       "      <td>1</td>\n",
       "      <td>2011</td>\n",
       "    </tr>\n",
       "    <tr>\n",
       "      <th>2011-01-01</th>\n",
       "      <td>539993</td>\n",
       "      <td>22667</td>\n",
       "      <td>RECIPE BOX RETROSPOT</td>\n",
       "      <td>6</td>\n",
       "      <td>2011-01-04 10:00:00</td>\n",
       "      <td>2.95</td>\n",
       "      <td>13313.0</td>\n",
       "      <td>United Kingdom</td>\n",
       "      <td>17.7</td>\n",
       "      <td>4</td>\n",
       "      <td>1</td>\n",
       "      <td>2011</td>\n",
       "    </tr>\n",
       "    <tr>\n",
       "      <th>2011-01-01</th>\n",
       "      <td>539993</td>\n",
       "      <td>22898</td>\n",
       "      <td>CHILDRENS APRON APPLES DESIGN</td>\n",
       "      <td>8</td>\n",
       "      <td>2011-01-04 10:00:00</td>\n",
       "      <td>1.95</td>\n",
       "      <td>13313.0</td>\n",
       "      <td>United Kingdom</td>\n",
       "      <td>15.6</td>\n",
       "      <td>4</td>\n",
       "      <td>1</td>\n",
       "      <td>2011</td>\n",
       "    </tr>\n",
       "    <tr>\n",
       "      <th>2011-01-01</th>\n",
       "      <td>539993</td>\n",
       "      <td>22896</td>\n",
       "      <td>PEG BAG APPLES DESIGN</td>\n",
       "      <td>6</td>\n",
       "      <td>2011-01-04 10:00:00</td>\n",
       "      <td>2.55</td>\n",
       "      <td>13313.0</td>\n",
       "      <td>United Kingdom</td>\n",
       "      <td>15.3</td>\n",
       "      <td>4</td>\n",
       "      <td>1</td>\n",
       "      <td>2011</td>\n",
       "    </tr>\n",
       "    <tr>\n",
       "      <th>2011-01-01</th>\n",
       "      <td>539993</td>\n",
       "      <td>22303</td>\n",
       "      <td>COFFEE MUG APPLES DESIGN</td>\n",
       "      <td>6</td>\n",
       "      <td>2011-01-04 10:00:00</td>\n",
       "      <td>2.55</td>\n",
       "      <td>13313.0</td>\n",
       "      <td>United Kingdom</td>\n",
       "      <td>15.3</td>\n",
       "      <td>4</td>\n",
       "      <td>1</td>\n",
       "      <td>2011</td>\n",
       "    </tr>\n",
       "    <tr>\n",
       "      <th>2011-01-01</th>\n",
       "      <td>539993</td>\n",
       "      <td>22302</td>\n",
       "      <td>COFFEE MUG PEARS  DESIGN</td>\n",
       "      <td>6</td>\n",
       "      <td>2011-01-04 10:00:00</td>\n",
       "      <td>2.55</td>\n",
       "      <td>13313.0</td>\n",
       "      <td>United Kingdom</td>\n",
       "      <td>15.3</td>\n",
       "      <td>4</td>\n",
       "      <td>1</td>\n",
       "      <td>2011</td>\n",
       "    </tr>\n",
       "    <tr>\n",
       "      <th>2011-01-01</th>\n",
       "      <td>539993</td>\n",
       "      <td>85123A</td>\n",
       "      <td>WHITE HANGING HEART T-LIGHT HOLDER</td>\n",
       "      <td>12</td>\n",
       "      <td>2011-01-04 10:00:00</td>\n",
       "      <td>2.95</td>\n",
       "      <td>13313.0</td>\n",
       "      <td>United Kingdom</td>\n",
       "      <td>35.4</td>\n",
       "      <td>4</td>\n",
       "      <td>1</td>\n",
       "      <td>2011</td>\n",
       "    </tr>\n",
       "    <tr>\n",
       "      <th>2011-01-01</th>\n",
       "      <td>539993</td>\n",
       "      <td>22808</td>\n",
       "      <td>SET OF 6 T-LIGHTS EASTER CHICKS</td>\n",
       "      <td>12</td>\n",
       "      <td>2011-01-04 10:00:00</td>\n",
       "      <td>2.95</td>\n",
       "      <td>13313.0</td>\n",
       "      <td>United Kingdom</td>\n",
       "      <td>35.4</td>\n",
       "      <td>4</td>\n",
       "      <td>1</td>\n",
       "      <td>2011</td>\n",
       "    </tr>\n",
       "    <tr>\n",
       "      <th>2011-01-01</th>\n",
       "      <td>539993</td>\n",
       "      <td>22458</td>\n",
       "      <td>CAST IRON HOOK GARDEN FORK</td>\n",
       "      <td>8</td>\n",
       "      <td>2011-01-04 10:00:00</td>\n",
       "      <td>2.55</td>\n",
       "      <td>13313.0</td>\n",
       "      <td>United Kingdom</td>\n",
       "      <td>20.4</td>\n",
       "      <td>4</td>\n",
       "      <td>1</td>\n",
       "      <td>2011</td>\n",
       "    </tr>\n",
       "    <tr>\n",
       "      <th>2011-01-01</th>\n",
       "      <td>539993</td>\n",
       "      <td>22862</td>\n",
       "      <td>LOVE HEART NAPKIN BOX</td>\n",
       "      <td>4</td>\n",
       "      <td>2011-01-04 10:00:00</td>\n",
       "      <td>4.25</td>\n",
       "      <td>13313.0</td>\n",
       "      <td>United Kingdom</td>\n",
       "      <td>17.0</td>\n",
       "      <td>4</td>\n",
       "      <td>1</td>\n",
       "      <td>2011</td>\n",
       "    </tr>\n",
       "    <tr>\n",
       "      <th>2011-01-01</th>\n",
       "      <td>540001</td>\n",
       "      <td>21733</td>\n",
       "      <td>RED HANGING HEART T-LIGHT HOLDER</td>\n",
       "      <td>32</td>\n",
       "      <td>2011-01-04 10:22:00</td>\n",
       "      <td>2.55</td>\n",
       "      <td>18097.0</td>\n",
       "      <td>United Kingdom</td>\n",
       "      <td>81.6</td>\n",
       "      <td>4</td>\n",
       "      <td>1</td>\n",
       "      <td>2011</td>\n",
       "    </tr>\n",
       "    <tr>\n",
       "      <th>2011-01-01</th>\n",
       "      <td>540001</td>\n",
       "      <td>22062</td>\n",
       "      <td>CERAMIC BOWL WITH LOVE HEART DESIGN</td>\n",
       "      <td>24</td>\n",
       "      <td>2011-01-04 10:22:00</td>\n",
       "      <td>2.95</td>\n",
       "      <td>18097.0</td>\n",
       "      <td>United Kingdom</td>\n",
       "      <td>70.8</td>\n",
       "      <td>4</td>\n",
       "      <td>1</td>\n",
       "      <td>2011</td>\n",
       "    </tr>\n",
       "    <tr>\n",
       "      <th>2011-01-01</th>\n",
       "      <td>540001</td>\n",
       "      <td>22060</td>\n",
       "      <td>LARGE CAKE STAND HANGING HEARTS</td>\n",
       "      <td>6</td>\n",
       "      <td>2011-01-04 10:22:00</td>\n",
       "      <td>9.95</td>\n",
       "      <td>18097.0</td>\n",
       "      <td>United Kingdom</td>\n",
       "      <td>59.7</td>\n",
       "      <td>4</td>\n",
       "      <td>1</td>\n",
       "      <td>2011</td>\n",
       "    </tr>\n",
       "  </tbody>\n",
       "</table>\n",
       "</div>"
      ],
      "text/plain": [
       "           Invoice StockCode                          Description  Quantity  \\\n",
       "year_month                                                                    \n",
       "2011-01-01  539993     22386              JUMBO BAG PINK POLKADOT        10   \n",
       "2011-01-01  539993     21499                   BLUE POLKADOT WRAP        25   \n",
       "2011-01-01  539993     21498                  RED RETROSPOT WRAP         25   \n",
       "2011-01-01  539993     22379             RECYCLING BAG RETROSPOT          5   \n",
       "2011-01-01  539993     20718            RED RETROSPOT SHOPPER BAG        10   \n",
       "2011-01-01  539993    85099B              JUMBO BAG RED RETROSPOT        10   \n",
       "2011-01-01  539993     20682     RED RETROSPOT CHILDRENS UMBRELLA         6   \n",
       "2011-01-01  539993     22961               JAM MAKING SET PRINTED        12   \n",
       "2011-01-01  539993     22667                RECIPE BOX RETROSPOT          6   \n",
       "2011-01-01  539993     22898        CHILDRENS APRON APPLES DESIGN         8   \n",
       "2011-01-01  539993     22896                PEG BAG APPLES DESIGN         6   \n",
       "2011-01-01  539993     22303             COFFEE MUG APPLES DESIGN         6   \n",
       "2011-01-01  539993     22302             COFFEE MUG PEARS  DESIGN         6   \n",
       "2011-01-01  539993    85123A   WHITE HANGING HEART T-LIGHT HOLDER        12   \n",
       "2011-01-01  539993     22808      SET OF 6 T-LIGHTS EASTER CHICKS        12   \n",
       "2011-01-01  539993     22458           CAST IRON HOOK GARDEN FORK         8   \n",
       "2011-01-01  539993     22862               LOVE HEART NAPKIN BOX          4   \n",
       "2011-01-01  540001     21733     RED HANGING HEART T-LIGHT HOLDER        32   \n",
       "2011-01-01  540001     22062  CERAMIC BOWL WITH LOVE HEART DESIGN        24   \n",
       "2011-01-01  540001     22060      LARGE CAKE STAND HANGING HEARTS         6   \n",
       "\n",
       "                   InvoiceDate  Price Customer ID         Country  TotalPrice  \\\n",
       "year_month                                                                      \n",
       "2011-01-01 2011-01-04 10:00:00   1.95     13313.0  United Kingdom        19.5   \n",
       "2011-01-01 2011-01-04 10:00:00   0.42     13313.0  United Kingdom        10.5   \n",
       "2011-01-01 2011-01-04 10:00:00   0.42     13313.0  United Kingdom        10.5   \n",
       "2011-01-01 2011-01-04 10:00:00   2.10     13313.0  United Kingdom        10.5   \n",
       "2011-01-01 2011-01-04 10:00:00   1.25     13313.0  United Kingdom        12.5   \n",
       "2011-01-01 2011-01-04 10:00:00   1.95     13313.0  United Kingdom        19.5   \n",
       "2011-01-01 2011-01-04 10:00:00   3.25     13313.0  United Kingdom        19.5   \n",
       "2011-01-01 2011-01-04 10:00:00   1.45     13313.0  United Kingdom        17.4   \n",
       "2011-01-01 2011-01-04 10:00:00   2.95     13313.0  United Kingdom        17.7   \n",
       "2011-01-01 2011-01-04 10:00:00   1.95     13313.0  United Kingdom        15.6   \n",
       "2011-01-01 2011-01-04 10:00:00   2.55     13313.0  United Kingdom        15.3   \n",
       "2011-01-01 2011-01-04 10:00:00   2.55     13313.0  United Kingdom        15.3   \n",
       "2011-01-01 2011-01-04 10:00:00   2.55     13313.0  United Kingdom        15.3   \n",
       "2011-01-01 2011-01-04 10:00:00   2.95     13313.0  United Kingdom        35.4   \n",
       "2011-01-01 2011-01-04 10:00:00   2.95     13313.0  United Kingdom        35.4   \n",
       "2011-01-01 2011-01-04 10:00:00   2.55     13313.0  United Kingdom        20.4   \n",
       "2011-01-01 2011-01-04 10:00:00   4.25     13313.0  United Kingdom        17.0   \n",
       "2011-01-01 2011-01-04 10:22:00   2.55     18097.0  United Kingdom        81.6   \n",
       "2011-01-01 2011-01-04 10:22:00   2.95     18097.0  United Kingdom        70.8   \n",
       "2011-01-01 2011-01-04 10:22:00   9.95     18097.0  United Kingdom        59.7   \n",
       "\n",
       "            Day  Month  Year  \n",
       "year_month                    \n",
       "2011-01-01    4      1  2011  \n",
       "2011-01-01    4      1  2011  \n",
       "2011-01-01    4      1  2011  \n",
       "2011-01-01    4      1  2011  \n",
       "2011-01-01    4      1  2011  \n",
       "2011-01-01    4      1  2011  \n",
       "2011-01-01    4      1  2011  \n",
       "2011-01-01    4      1  2011  \n",
       "2011-01-01    4      1  2011  \n",
       "2011-01-01    4      1  2011  \n",
       "2011-01-01    4      1  2011  \n",
       "2011-01-01    4      1  2011  \n",
       "2011-01-01    4      1  2011  \n",
       "2011-01-01    4      1  2011  \n",
       "2011-01-01    4      1  2011  \n",
       "2011-01-01    4      1  2011  \n",
       "2011-01-01    4      1  2011  \n",
       "2011-01-01    4      1  2011  \n",
       "2011-01-01    4      1  2011  \n",
       "2011-01-01    4      1  2011  "
      ]
     },
     "execution_count": 39,
     "metadata": {},
     "output_type": "execute_result"
    }
   ],
   "source": [
    "df.head(20)"
   ]
  },
  {
   "cell_type": "code",
   "execution_count": 239,
   "id": "e66b35f0",
   "metadata": {},
   "outputs": [],
   "source": [
    "#Na osnovu prethodnih pokusaja, zakljucili smo da nam je set podataka i dalje prevelik\n",
    "#Konkretno koristila sam podatke samo za 2011 godinu, prilikom ispitivanja stacionarnosti i samog treniranja dobila sam \n",
    "#MemoryError sto indicira da nemam dovoljno RAM memorije na racunaru, racunar na kome je ovo pokusano ima 16 GB RAM memorije\n",
    "#Tako da zbog hardveskog ogranicenja sam izabrala da uzmem samo trecinu proizvoda"
   ]
  },
  {
   "cell_type": "code",
   "execution_count": 40,
   "id": "e6b4dfb3",
   "metadata": {},
   "outputs": [],
   "source": [
    "proizvodi=df['StockCode'].unique()\n",
    "type(proizvodi)\n",
    "duzina=len(proizvodi)//3\n",
    "pola_proizvoda=proizvodi[:duzina]\n",
    "df = df[df['StockCode'].isin(pola_proizvoda)]"
   ]
  },
  {
   "cell_type": "code",
   "execution_count": 241,
   "id": "62674a08",
   "metadata": {},
   "outputs": [],
   "source": [
    "#Pronalaženje kupaca koji obavljaju kupovine na veliko:"
   ]
  },
  {
   "cell_type": "code",
   "execution_count": 41,
   "id": "fd428822",
   "metadata": {},
   "outputs": [],
   "source": [
    "# Izračunajte 80% kvantil za TotalPrice\n",
    "threshold_amount = df['TotalPrice'].quantile(0.8)\n",
    "\n",
    "# Pronađite kupce čije su ukupne kupovine veće od 80% kvantila\n",
    "wholesale_customers = df.groupby('Customer ID')['TotalPrice'].sum()\n",
    "wholesale_customers = wholesale_customers[wholesale_customers > threshold_amount]\n"
   ]
  },
  {
   "cell_type": "code",
   "execution_count": 42,
   "id": "89247a26",
   "metadata": {},
   "outputs": [
    {
     "data": {
      "text/plain": [
       "Customer ID\n",
       "12347.0      1640.29\n",
       "12348.0       282.68\n",
       "12349.0      1188.08\n",
       "12350.0       304.40\n",
       "12352.0      2098.26\n",
       "             ...    \n",
       "18281.0        25.38\n",
       "18282.0       105.15\n",
       "18283.0      1095.76\n",
       "18287.0      1020.34\n",
       "nan        994654.40\n",
       "Name: TotalPrice, Length: 4116, dtype: float64"
      ]
     },
     "execution_count": 42,
     "metadata": {},
     "output_type": "execute_result"
    }
   ],
   "source": [
    "wholesale_customers"
   ]
  },
  {
   "cell_type": "code",
   "execution_count": null,
   "id": "4518858c",
   "metadata": {},
   "outputs": [],
   "source": [
    "#Analiza koliko često obavljaju takve kupovine:"
   ]
  },
  {
   "cell_type": "code",
   "execution_count": 43,
   "id": "dbc18ad2",
   "metadata": {},
   "outputs": [],
   "source": [
    "# Pretvorite InvoiceDate u datetime format\n",
    "df['InvoiceDate'] = pd.to_datetime(df['InvoiceDate'])\n",
    "\n",
    "\n",
    "# Grupišite po kupcima i analizirajte vremenski raspon između transakcija\n",
    "wholesale_purchase_frequency = df[df['Customer ID'].isin(wholesale_customers.index)]\n",
    "wholesale_purchase_frequency = wholesale_purchase_frequency.groupby('Customer ID')['InvoiceDate'].diff().mean()\n"
   ]
  },
  {
   "cell_type": "code",
   "execution_count": 44,
   "id": "d346bec3",
   "metadata": {},
   "outputs": [
    {
     "data": {
      "text/plain": [
       "Timedelta('1 days 18:17:44.074336911')"
      ]
     },
     "execution_count": 44,
     "metadata": {},
     "output_type": "execute_result"
    }
   ],
   "source": [
    "wholesale_purchase_frequency"
   ]
  },
  {
   "cell_type": "code",
   "execution_count": null,
   "id": "8c3bb4ea",
   "metadata": {},
   "outputs": [],
   "source": [
    "#Pronalaženje redovnih kupaca:"
   ]
  },
  {
   "cell_type": "code",
   "execution_count": 45,
   "id": "74764e95",
   "metadata": {},
   "outputs": [
    {
     "name": "stdout",
     "output_type": "stream",
     "text": [
      "count     4153.000000\n",
      "mean        66.156032\n",
      "std       1077.240394\n",
      "min          1.000000\n",
      "25%          9.000000\n",
      "50%         22.000000\n",
      "75%         54.000000\n",
      "max      69018.000000\n",
      "Name: count, dtype: float64\n"
     ]
    }
   ],
   "source": [
    "transaction_counts = df['Customer ID'].value_counts()\n",
    "print(transaction_counts.describe())"
   ]
  },
  {
   "cell_type": "code",
   "execution_count": 46,
   "id": "3f9b31a9",
   "metadata": {},
   "outputs": [],
   "source": [
    "neki_odredjeni_broj_transakcija=54#izabrali smo ovo jer je u 75% \n",
    "threshold_quantity = neki_odredjeni_broj_transakcija"
   ]
  },
  {
   "cell_type": "code",
   "execution_count": 47,
   "id": "a6cdca14",
   "metadata": {},
   "outputs": [],
   "source": [
    "regular_customers = df['Customer ID'].value_counts()\n",
    "regular_customers = regular_customers[regular_customers > neki_odredjeni_broj_transakcija]"
   ]
  },
  {
   "cell_type": "code",
   "execution_count": 48,
   "id": "b2e67b15",
   "metadata": {},
   "outputs": [
    {
     "data": {
      "text/plain": [
       "Customer ID\n",
       "nan        69018\n",
       "17841.0     4146\n",
       "14096.0     2853\n",
       "14911.0     2830\n",
       "12748.0     1788\n",
       "           ...  \n",
       "16987.0       55\n",
       "13533.0       55\n",
       "14130.0       55\n",
       "13650.0       55\n",
       "13344.0       55\n",
       "Name: count, Length: 1029, dtype: int64"
      ]
     },
     "execution_count": 48,
     "metadata": {},
     "output_type": "execute_result"
    }
   ],
   "source": [
    "regular_customers"
   ]
  },
  {
   "cell_type": "code",
   "execution_count": null,
   "id": "1a63a4ad",
   "metadata": {},
   "outputs": [],
   "source": [
    "#Analiza onih koji su kupovali samo jednom:"
   ]
  },
  {
   "cell_type": "code",
   "execution_count": 49,
   "id": "4c2f331f",
   "metadata": {},
   "outputs": [],
   "source": [
    "one_time_customers = df['Customer ID'].value_counts()\n",
    "one_time_customers = one_time_customers[one_time_customers == 1]"
   ]
  },
  {
   "cell_type": "code",
   "execution_count": 50,
   "id": "e031d7eb",
   "metadata": {},
   "outputs": [
    {
     "data": {
      "text/plain": [
       "Customer ID\n",
       "17026.0    1\n",
       "15802.0    1\n",
       "15759.0    1\n",
       "14816.0    1\n",
       "16990.0    1\n",
       "          ..\n",
       "15753.0    1\n",
       "16078.0    1\n",
       "12814.0    1\n",
       "15567.0    1\n",
       "17905.0    1\n",
       "Name: count, Length: 94, dtype: int64"
      ]
     },
     "execution_count": 50,
     "metadata": {},
     "output_type": "execute_result"
    }
   ],
   "source": [
    "one_time_customers"
   ]
  },
  {
   "cell_type": "code",
   "execution_count": null,
   "id": "c253f833",
   "metadata": {},
   "outputs": [],
   "source": [
    "#Quantity"
   ]
  },
  {
   "cell_type": "code",
   "execution_count": 51,
   "id": "b2cb4dee",
   "metadata": {},
   "outputs": [
    {
     "name": "stdout",
     "output_type": "stream",
     "text": [
      "\n",
      "10% kupaca koji su najviše kupili (u smislu Quantity):\n",
      "Index(['12347.0', '12348.0', '12349.0', '12350.0', '12352.0', '12354.0',\n",
      "       '12355.0', '12356.0', '12357.0', '12358.0',\n",
      "       ...\n",
      "       '18260.0', '18261.0', '18262.0', '18263.0', '18265.0', '18272.0',\n",
      "       '18274.0', '18283.0', '18287.0', 'nan'],\n",
      "      dtype='object', name='Customer ID', length=3494)\n"
     ]
    }
   ],
   "source": [
    "\n",
    "# Pronađite 10% kupaca koji su najviše kupili u smislu Quantity\n",
    "top_quantity_customers = df.groupby('Customer ID')['Quantity'].sum()\n",
    "top_quantity_customers = top_quantity_customers[top_quantity_customers > threshold_quantity].index\n",
    "\n",
    "# Ispis rezultata\n",
    "\n",
    "print(\"\\n10% kupaca koji su najviše kupili (u smislu Quantity):\")\n",
    "print(top_quantity_customers)"
   ]
  },
  {
   "cell_type": "code",
   "execution_count": 52,
   "id": "25761cae",
   "metadata": {},
   "outputs": [
    {
     "data": {
      "text/plain": [
       "274746"
      ]
     },
     "execution_count": 52,
     "metadata": {},
     "output_type": "execute_result"
    }
   ],
   "source": [
    "len(df)"
   ]
  },
  {
   "cell_type": "code",
   "execution_count": null,
   "id": "33df8210",
   "metadata": {},
   "outputs": [],
   "source": [
    "#Plotovanje   redukovanog DataFrame-a,sve labele"
   ]
  },
  {
   "cell_type": "code",
   "execution_count": 53,
   "id": "5e05568d",
   "metadata": {},
   "outputs": [
    {
     "data": {
      "text/plain": [
       "<Axes: xlabel='year_month'>"
      ]
     },
     "execution_count": 53,
     "metadata": {},
     "output_type": "execute_result"
    },
    {
     "data": {
      "image/png": "[encoded data removed]",
      "text/plain": [
       "<Figure size 800x400 with 1 Axes>"
      ]
     },
     "metadata": {},
     "output_type": "display_data"
    }
   ],
   "source": [
    "df.plot()"
   ]
  },
  {
   "cell_type": "code",
   "execution_count": null,
   "id": "2ef42ea4",
   "metadata": {},
   "outputs": [],
   "source": [
    "#Plotovanje   redukovanog DataFrame-a,labela TotalPrice u zavisnosti od labele Month"
   ]
  },
  {
   "cell_type": "code",
   "execution_count": 54,
   "id": "2c2345d5",
   "metadata": {},
   "outputs": [
    {
     "data": {
      "image/png": "[encoded data removed]",
      "text/plain": [
       "<Figure size 800x400 with 1 Axes>"
      ]
     },
     "metadata": {},
     "output_type": "display_data"
    }
   ],
   "source": [
    "x, y = df.index, df['TotalPrice']\n",
    "plt.plot(x, y); plt.xlabel('Month');"
   ]
  },
  {
   "cell_type": "code",
   "execution_count": null,
   "id": "752ebf58",
   "metadata": {},
   "outputs": [],
   "source": [
    "#Koristicemo Garbage Collector kako bi nakon izvrsenih radnji oslobodili reference u RAM memoriji koje se ne koriste"
   ]
  },
  {
   "cell_type": "code",
   "execution_count": 55,
   "id": "f3d991c1",
   "metadata": {},
   "outputs": [
    {
     "data": {
      "text/plain": [
       "3093"
      ]
     },
     "execution_count": 55,
     "metadata": {},
     "output_type": "execute_result"
    }
   ],
   "source": [
    "import gc\n",
    "gc.collect()"
   ]
  },
  {
   "cell_type": "code",
   "execution_count": 56,
   "id": "aa0c496e",
   "metadata": {},
   "outputs": [],
   "source": [
    "#Autokorelacija"
   ]
  },
  {
   "cell_type": "code",
   "execution_count": 57,
   "id": "853d80fe",
   "metadata": {},
   "outputs": [
    {
     "data": {
      "image/png": "[encoded data removed]",
      "text/plain": [
       "<Figure size 800x400 with 1 Axes>"
      ]
     },
     "metadata": {},
     "output_type": "display_data"
    }
   ],
   "source": [
    "from statsmodels.graphics.tsaplots import plot_acf\n",
    "plot_acf(df['TotalPrice'], lags=20)\n",
    "plt.show()"
   ]
  },
  {
   "cell_type": "code",
   "execution_count": 58,
   "id": "231cd92d",
   "metadata": {},
   "outputs": [
    {
     "data": {
      "text/plain": [
       "3248"
      ]
     },
     "execution_count": 58,
     "metadata": {},
     "output_type": "execute_result"
    }
   ],
   "source": [
    "import gc\n",
    "gc.collect()"
   ]
  },
  {
   "cell_type": "code",
   "execution_count": null,
   "id": "8b332cbf",
   "metadata": {},
   "outputs": [],
   "source": [
    "#Parcijalna Autokorelacija"
   ]
  },
  {
   "cell_type": "code",
   "execution_count": 59,
   "id": "23da075b",
   "metadata": {},
   "outputs": [
    {
     "data": {
      "image/png": "[encoded data removed]",
      "text/plain": [
       "<Figure size 800x400 with 1 Axes>"
      ]
     },
     "metadata": {},
     "output_type": "display_data"
    }
   ],
   "source": [
    "from statsmodels.graphics.tsaplots import plot_pacf\n",
    "plot_pacf(df['TotalPrice'], lags=20)\n",
    "plt.show()"
   ]
  },
  {
   "cell_type": "code",
   "execution_count": 60,
   "id": "d94d974d",
   "metadata": {},
   "outputs": [
    {
     "data": {
      "text/plain": [
       "3250"
      ]
     },
     "execution_count": 60,
     "metadata": {},
     "output_type": "execute_result"
    }
   ],
   "source": [
    "gc.collect()"
   ]
  },
  {
   "cell_type": "code",
   "execution_count": null,
   "id": "f73e4a02",
   "metadata": {},
   "outputs": [],
   "source": [
    "#Logaritmovanje labele TotalPrice zbog buducih potreba"
   ]
  },
  {
   "cell_type": "code",
   "execution_count": 61,
   "id": "4f2a13a8",
   "metadata": {},
   "outputs": [
    {
     "data": {
      "image/png": "[encoded data removed]",
      "text/plain": [
       "<Figure size 800x400 with 1 Axes>"
      ]
     },
     "metadata": {},
     "output_type": "display_data"
    }
   ],
   "source": [
    "df['log10(TotalPrice)'] = np.log10(df['TotalPrice'])\n",
    "df['log10(TotalPrice)'].plot();"
   ]
  },
  {
   "cell_type": "code",
   "execution_count": 62,
   "id": "3e71e797",
   "metadata": {},
   "outputs": [
    {
     "data": {
      "text/plain": [
       "2788"
      ]
     },
     "execution_count": 62,
     "metadata": {},
     "output_type": "execute_result"
    }
   ],
   "source": [
    "gc.collect()"
   ]
  },
  {
   "cell_type": "code",
   "execution_count": 63,
   "id": "09cdccb8",
   "metadata": {},
   "outputs": [
    {
     "data": {
      "image/png": "[encoded data removed]",
      "text/plain": [
       "<Figure size 800x400 with 4 Axes>"
      ]
     },
     "metadata": {},
     "output_type": "display_data"
    }
   ],
   "source": [
    "from statsmodels.tsa.seasonal import STL\n",
    "seasonal_period = 12\n",
    "stl = STL(df['log10(TotalPrice)'],period=12 ).fit()\n",
    "\n",
    "stl.plot()\n",
    "\n",
    "plt.show()\n",
    "\n",
    "trend, seasonal, resid = stl.trend, stl.seasonal, stl.resid"
   ]
  },
  {
   "cell_type": "code",
   "execution_count": 90,
   "id": "405aa449",
   "metadata": {},
   "outputs": [
    {
     "data": {
      "text/html": [
       "<div>\n",
       "<style scoped>\n",
       "    .dataframe tbody tr th:only-of-type {\n",
       "        vertical-align: middle;\n",
       "    }\n",
       "\n",
       "    .dataframe tbody tr th {\n",
       "        vertical-align: top;\n",
       "    }\n",
       "\n",
       "    .dataframe thead th {\n",
       "        text-align: right;\n",
       "    }\n",
       "</style>\n",
       "<table border=\"1\" class=\"dataframe\">\n",
       "  <thead>\n",
       "    <tr style=\"text-align: right;\">\n",
       "      <th></th>\n",
       "      <th>Invoice</th>\n",
       "      <th>StockCode</th>\n",
       "      <th>Description</th>\n",
       "      <th>Quantity</th>\n",
       "      <th>InvoiceDate</th>\n",
       "      <th>Price</th>\n",
       "      <th>Customer ID</th>\n",
       "      <th>Country</th>\n",
       "      <th>TotalPrice</th>\n",
       "      <th>Day</th>\n",
       "      <th>Month</th>\n",
       "      <th>Year</th>\n",
       "      <th>log10(TotalPrice)</th>\n",
       "    </tr>\n",
       "    <tr>\n",
       "      <th>year_month</th>\n",
       "      <th></th>\n",
       "      <th></th>\n",
       "      <th></th>\n",
       "      <th></th>\n",
       "      <th></th>\n",
       "      <th></th>\n",
       "      <th></th>\n",
       "      <th></th>\n",
       "      <th></th>\n",
       "      <th></th>\n",
       "      <th></th>\n",
       "      <th></th>\n",
       "      <th></th>\n",
       "    </tr>\n",
       "  </thead>\n",
       "  <tbody>\n",
       "    <tr>\n",
       "      <th>2011-01-01</th>\n",
       "      <td>539993</td>\n",
       "      <td>22386</td>\n",
       "      <td>JUMBO BAG PINK POLKADOT</td>\n",
       "      <td>10</td>\n",
       "      <td>2011-01-04 10:00:00</td>\n",
       "      <td>1.95</td>\n",
       "      <td>13313.0</td>\n",
       "      <td>United Kingdom</td>\n",
       "      <td>19.5</td>\n",
       "      <td>4</td>\n",
       "      <td>1</td>\n",
       "      <td>2011</td>\n",
       "      <td>1.00000</td>\n",
       "    </tr>\n",
       "    <tr>\n",
       "      <th>2011-01-01</th>\n",
       "      <td>539993</td>\n",
       "      <td>21499</td>\n",
       "      <td>BLUE POLKADOT WRAP</td>\n",
       "      <td>25</td>\n",
       "      <td>2011-01-04 10:00:00</td>\n",
       "      <td>0.42</td>\n",
       "      <td>13313.0</td>\n",
       "      <td>United Kingdom</td>\n",
       "      <td>10.5</td>\n",
       "      <td>4</td>\n",
       "      <td>1</td>\n",
       "      <td>2011</td>\n",
       "      <td>1.39794</td>\n",
       "    </tr>\n",
       "    <tr>\n",
       "      <th>2011-01-01</th>\n",
       "      <td>539993</td>\n",
       "      <td>21498</td>\n",
       "      <td>RED RETROSPOT WRAP</td>\n",
       "      <td>25</td>\n",
       "      <td>2011-01-04 10:00:00</td>\n",
       "      <td>0.42</td>\n",
       "      <td>13313.0</td>\n",
       "      <td>United Kingdom</td>\n",
       "      <td>10.5</td>\n",
       "      <td>4</td>\n",
       "      <td>1</td>\n",
       "      <td>2011</td>\n",
       "      <td>1.39794</td>\n",
       "    </tr>\n",
       "    <tr>\n",
       "      <th>2011-01-01</th>\n",
       "      <td>539993</td>\n",
       "      <td>22379</td>\n",
       "      <td>RECYCLING BAG RETROSPOT</td>\n",
       "      <td>5</td>\n",
       "      <td>2011-01-04 10:00:00</td>\n",
       "      <td>2.10</td>\n",
       "      <td>13313.0</td>\n",
       "      <td>United Kingdom</td>\n",
       "      <td>10.5</td>\n",
       "      <td>4</td>\n",
       "      <td>1</td>\n",
       "      <td>2011</td>\n",
       "      <td>0.69897</td>\n",
       "    </tr>\n",
       "    <tr>\n",
       "      <th>2011-01-01</th>\n",
       "      <td>539993</td>\n",
       "      <td>20718</td>\n",
       "      <td>RED RETROSPOT SHOPPER BAG</td>\n",
       "      <td>10</td>\n",
       "      <td>2011-01-04 10:00:00</td>\n",
       "      <td>1.25</td>\n",
       "      <td>13313.0</td>\n",
       "      <td>United Kingdom</td>\n",
       "      <td>12.5</td>\n",
       "      <td>4</td>\n",
       "      <td>1</td>\n",
       "      <td>2011</td>\n",
       "      <td>1.00000</td>\n",
       "    </tr>\n",
       "  </tbody>\n",
       "</table>\n",
       "</div>"
      ],
      "text/plain": [
       "           Invoice StockCode                Description  Quantity  \\\n",
       "year_month                                                          \n",
       "2011-01-01  539993     22386    JUMBO BAG PINK POLKADOT        10   \n",
       "2011-01-01  539993     21499         BLUE POLKADOT WRAP        25   \n",
       "2011-01-01  539993     21498        RED RETROSPOT WRAP         25   \n",
       "2011-01-01  539993     22379   RECYCLING BAG RETROSPOT          5   \n",
       "2011-01-01  539993     20718  RED RETROSPOT SHOPPER BAG        10   \n",
       "\n",
       "                   InvoiceDate  Price Customer ID         Country  TotalPrice  \\\n",
       "year_month                                                                      \n",
       "2011-01-01 2011-01-04 10:00:00   1.95     13313.0  United Kingdom        19.5   \n",
       "2011-01-01 2011-01-04 10:00:00   0.42     13313.0  United Kingdom        10.5   \n",
       "2011-01-01 2011-01-04 10:00:00   0.42     13313.0  United Kingdom        10.5   \n",
       "2011-01-01 2011-01-04 10:00:00   2.10     13313.0  United Kingdom        10.5   \n",
       "2011-01-01 2011-01-04 10:00:00   1.25     13313.0  United Kingdom        12.5   \n",
       "\n",
       "            Day  Month  Year  log10(TotalPrice)  \n",
       "year_month                                       \n",
       "2011-01-01    4      1  2011            1.00000  \n",
       "2011-01-01    4      1  2011            1.39794  \n",
       "2011-01-01    4      1  2011            1.39794  \n",
       "2011-01-01    4      1  2011            0.69897  \n",
       "2011-01-01    4      1  2011            1.00000  "
      ]
     },
     "execution_count": 90,
     "metadata": {},
     "output_type": "execute_result"
    }
   ],
   "source": [
    "df.head()"
   ]
  },
  {
   "cell_type": "code",
   "execution_count": 64,
   "id": "d89d5b77",
   "metadata": {},
   "outputs": [
    {
     "data": {
      "text/plain": [
       "11377"
      ]
     },
     "execution_count": 64,
     "metadata": {},
     "output_type": "execute_result"
    }
   ],
   "source": [
    "gc.collect()"
   ]
  },
  {
   "cell_type": "code",
   "execution_count": null,
   "id": "48a73886",
   "metadata": {},
   "outputs": [],
   "source": [
    "#Proveravanje stacionarnosti"
   ]
  },
  {
   "cell_type": "code",
   "execution_count": 92,
   "id": "6bcee752",
   "metadata": {},
   "outputs": [
    {
     "name": "stdout",
     "output_type": "stream",
     "text": [
      "adf_value=-55.97, p_value=0.00\n",
      "postoji stacionarnost\n"
     ]
    },
    {
     "data": {
      "image/png": "[encoded data removed]",
      "text/plain": [
       "<Figure size 800x400 with 1 Axes>"
      ]
     },
     "metadata": {},
     "output_type": "display_data"
    }
   ],
   "source": [
    "df['TotalPrice'].plot();\n",
    "from statsmodels.tsa.stattools import adfuller\n",
    "adf_value = adfuller(df['TotalPrice'])[0] \n",
    "p_value = adfuller(df['TotalPrice'])[1]\n",
    "print(f'{adf_value=:.2f}, {p_value=:.2f}')\n",
    "\n",
    "if p_value <= 0.05: print('postoji stacionarnost')\n",
    "else: print('ne postoji stacionarnost')"
   ]
  },
  {
   "cell_type": "code",
   "execution_count": 94,
   "id": "05c1ac1e",
   "metadata": {},
   "outputs": [
    {
     "data": {
      "text/plain": [
       "0"
      ]
     },
     "execution_count": 94,
     "metadata": {},
     "output_type": "execute_result"
    }
   ],
   "source": [
    "gc.collect()"
   ]
  },
  {
   "cell_type": "code",
   "execution_count": 95,
   "id": "e938faa2",
   "metadata": {},
   "outputs": [
    {
     "name": "stdout",
     "output_type": "stream",
     "text": [
      "adf_value=-42.08, p_value=0.00\n",
      "postoji stacionarnost\n"
     ]
    },
    {
     "data": {
      "image/png": "[encoded data removed]",
      "text/plain": [
       "<Figure size 800x400 with 1 Axes>"
      ]
     },
     "metadata": {},
     "output_type": "display_data"
    }
   ],
   "source": [
    "df['log10(TotalPrice)'].plot();\n",
    "from statsmodels.tsa.stattools import adfuller\n",
    "adf_value = adfuller(df['log10(TotalPrice)'])[0] \n",
    "p_value = adfuller(df['log10(TotalPrice)'])[1]\n",
    "print(f'{adf_value=:.2f}, {p_value=:.2f}')\n",
    "\n",
    "if p_value <= 0.05: print('postoji stacionarnost')\n",
    "else: print('ne postoji stacionarnost')"
   ]
  },
  {
   "cell_type": "code",
   "execution_count": 96,
   "id": "c2a1e00d",
   "metadata": {},
   "outputs": [
    {
     "data": {
      "text/plain": [
       "2601"
      ]
     },
     "execution_count": 96,
     "metadata": {},
     "output_type": "execute_result"
    }
   ],
   "source": [
    "gc.collect()"
   ]
  },
  {
   "cell_type": "code",
   "execution_count": null,
   "id": "bfaba67b",
   "metadata": {},
   "outputs": [],
   "source": [
    "#Podela na train i val podatke"
   ]
  },
  {
   "cell_type": "code",
   "execution_count": 264,
   "id": "297cf579",
   "metadata": {},
   "outputs": [
    {
     "data": {
      "image/png": "[encoded data removed]",
      "text/plain": [
       "<Figure size 800x400 with 1 Axes>"
      ]
     },
     "metadata": {},
     "output_type": "display_data"
    }
   ],
   "source": [
    "\n",
    "dataset_split = int(len(df['TotalPrice']) * 0.8)\n",
    "train_df = df[:dataset_split].copy()\n",
    "val_df  =  df[dataset_split:].copy()\n",
    "\n",
    "plt.plot(train_df['TotalPrice'], color='b', linewidth=4, alpha=0.3, label='train')\n",
    "plt.plot(val_df['TotalPrice'], color='red', linewidth=4, alpha=0.3, label='val')\n",
    "plt.legend()\n",
    "plt.show()"
   ]
  },
  {
   "cell_type": "code",
   "execution_count": 99,
   "id": "e4a641dd",
   "metadata": {},
   "outputs": [
    {
     "data": {
      "text/plain": [
       "219796"
      ]
     },
     "execution_count": 99,
     "metadata": {},
     "output_type": "execute_result"
    }
   ],
   "source": [
    "dataset_split"
   ]
  },
  {
   "cell_type": "code",
   "execution_count": null,
   "id": "b4c36069",
   "metadata": {},
   "outputs": [],
   "source": [
    "#Implementacija AR MODELA"
   ]
  },
  {
   "cell_type": "code",
   "execution_count": 100,
   "id": "1f811238",
   "metadata": {},
   "outputs": [],
   "source": [
    "from statsmodels.tsa.arima.model import ARIMA"
   ]
  },
  {
   "cell_type": "code",
   "execution_count": 265,
   "id": "cbc02ff3",
   "metadata": {},
   "outputs": [
    {
     "name": "stderr",
     "output_type": "stream",
     "text": [
      "C:\\Users\\Dakic\\anaconda3\\Lib\\site-packages\\statsmodels\\tsa\\base\\tsa_model.py:473: ValueWarning: A date index has been provided, but it has no associated frequency information and so will be ignored when e.g. forecasting.\n",
      "  self._init_dates(dates, freq)\n",
      "C:\\Users\\Dakic\\anaconda3\\Lib\\site-packages\\statsmodels\\tsa\\base\\tsa_model.py:473: ValueWarning: A date index has been provided, but it has no associated frequency information and so will be ignored when e.g. forecasting.\n",
      "  self._init_dates(dates, freq)\n",
      "C:\\Users\\Dakic\\anaconda3\\Lib\\site-packages\\statsmodels\\tsa\\base\\tsa_model.py:473: ValueWarning: A date index has been provided, but it has no associated frequency information and so will be ignored when e.g. forecasting.\n",
      "  self._init_dates(dates, freq)\n"
     ]
    },
    {
     "name": "stdout",
     "output_type": "stream",
     "text": [
      "                               SARIMAX Results                                \n",
      "==============================================================================\n",
      "Dep. Variable:      log10(TotalPrice)   No. Observations:               219796\n",
      "Model:                ARIMA(12, 0, 0)   Log Likelihood             -105673.156\n",
      "Date:                Thu, 08 Feb 2024   AIC                         211374.311\n",
      "Time:                        16:01:03   BIC                         211518.518\n",
      "Sample:                             0   HQIC                        211416.581\n",
      "                             - 219796                                         \n",
      "Covariance Type:                  opg                                         \n",
      "==============================================================================\n",
      "                 coef    std err          z      P>|z|      [0.025      0.975]\n",
      "------------------------------------------------------------------------------\n",
      "const          0.9712      0.005    204.596      0.000       0.962       0.980\n",
      "ar.L1          0.3940      0.002    237.324      0.000       0.391       0.397\n",
      "ar.L2          0.1442      0.002     73.382      0.000       0.140       0.148\n",
      "ar.L3          0.0744      0.002     36.333      0.000       0.070       0.078\n",
      "ar.L4          0.0479      0.002     22.972      0.000       0.044       0.052\n",
      "ar.L5          0.0387      0.002     18.221      0.000       0.035       0.043\n",
      "ar.L6          0.0290      0.002     13.578      0.000       0.025       0.033\n",
      "ar.L7          0.0213      0.002      9.941      0.000       0.017       0.026\n",
      "ar.L8          0.0171      0.002      7.883      0.000       0.013       0.021\n",
      "ar.L9          0.0192      0.002      8.850      0.000       0.015       0.023\n",
      "ar.L10         0.0073      0.002      3.370      0.001       0.003       0.012\n",
      "ar.L11         0.0158      0.002      7.377      0.000       0.012       0.020\n",
      "ar.L12         0.0132      0.002      6.544      0.000       0.009       0.017\n",
      "sigma2         0.1531      0.000    467.942      0.000       0.153       0.154\n",
      "===================================================================================\n",
      "Ljung-Box (L1) (Q):                   0.01   Jarque-Bera (JB):             48819.36\n",
      "Prob(Q):                              0.92   Prob(JB):                         0.00\n",
      "Heteroskedasticity (H):               1.06   Skew:                             0.20\n",
      "Prob(H) (two-sided):                  0.00   Kurtosis:                         5.27\n",
      "===================================================================================\n",
      "\n",
      "Warnings:\n",
      "[1] Covariance matrix calculated using the outer product of gradients (complex-step).\n"
     ]
    }
   ],
   "source": [
    "p, d, q = 12, 0, 0\n",
    "ar_model = ARIMA(train_df['log10(TotalPrice)'], order=(p, d, 0)).fit()\n",
    "print(ar_model.summary())"
   ]
  },
  {
   "cell_type": "code",
   "execution_count": 266,
   "id": "d2e8d19d",
   "metadata": {
    "scrolled": true
   },
   "outputs": [
    {
     "data": {
      "image/png": "[encoded data removed]",
      "text/plain": [
       "<Figure size 800x400 with 1 Axes>"
      ]
     },
     "metadata": {},
     "output_type": "display_data"
    }
   ],
   "source": [
    "y_train_pred = ar_model.predict(start=train_df.index[p+1], end=train_df.index[-1])\n",
    "\n",
    "plt.plot(train_df['log10(TotalPrice)'], color='b', linewidth=4, alpha=0.3, label='train')\n",
    "plt.plot(y_train_pred, color='darkorange', label='AR model prediction')\n",
    "plt.title('predikcije za log10(TotalPrice)')\n",
    "plt.legend()\n",
    "plt.show()"
   ]
  },
  {
   "cell_type": "code",
   "execution_count": 307,
   "id": "d8007424",
   "metadata": {},
   "outputs": [
    {
     "data": {
      "text/plain": [
       "DatetimeIndex(['2009-12-01', '2009-12-01', '2009-12-01', '2009-12-01',\n",
       "               '2009-12-01', '2009-12-01', '2009-12-01', '2009-12-01',\n",
       "               '2009-12-01', '2009-12-01',\n",
       "               ...\n",
       "               '2010-02-01', '2010-02-01', '2010-02-01', '2010-02-01',\n",
       "               '2010-02-01', '2010-02-01', '2010-02-01', '2010-02-01',\n",
       "               '2010-02-01', '2010-03-01'],\n",
       "              dtype='datetime64[ns]', name='year_month', length=237, freq=None)"
      ]
     },
     "execution_count": 307,
     "metadata": {},
     "output_type": "execute_result"
    }
   ],
   "source": [
    "y_train_pred.index"
   ]
  },
  {
   "cell_type": "code",
   "execution_count": 267,
   "id": "a988fae6",
   "metadata": {},
   "outputs": [
    {
     "data": {
      "text/plain": [
       "14862"
      ]
     },
     "execution_count": 267,
     "metadata": {},
     "output_type": "execute_result"
    }
   ],
   "source": [
    "gc.collect()"
   ]
  },
  {
   "cell_type": "code",
   "execution_count": 106,
   "id": "48d5b497",
   "metadata": {},
   "outputs": [],
   "source": [
    "kraj=val_df.index[-1]"
   ]
  },
  {
   "cell_type": "code",
   "execution_count": 113,
   "id": "cca4e5ab",
   "metadata": {},
   "outputs": [
    {
     "name": "stdout",
     "output_type": "stream",
     "text": [
      "<class 'pandas._libs.tslibs.timestamps.Timestamp'>\n"
     ]
    }
   ],
   "source": [
    "print(type(kraj))"
   ]
  },
  {
   "cell_type": "code",
   "execution_count": 110,
   "id": "c839172f",
   "metadata": {},
   "outputs": [
    {
     "data": {
      "text/plain": [
       "pandas.core.indexes.datetimes.DatetimeIndex"
      ]
     },
     "execution_count": 110,
     "metadata": {},
     "output_type": "execute_result"
    }
   ],
   "source": [
    "type(df.index)"
   ]
  },
  {
   "cell_type": "code",
   "execution_count": 109,
   "id": "cae33252",
   "metadata": {},
   "outputs": [],
   "source": [
    "df.index = pd.to_datetime(df.index)"
   ]
  },
  {
   "cell_type": "code",
   "execution_count": null,
   "id": "45c63ada",
   "metadata": {},
   "outputs": [],
   "source": [
    "#Predikcija nad validacionim podacima, treba napomenuti da je namerno izostavljen parametar end u predikciji\n",
    "#TO je odradjeno iz razloga sto smo selektovali 1/3 proizvoda i samim tim nam  indexi(Koji rpedstavljaju datum) se ne \n",
    "#pojavljuju dovoljno frekventno pa nam izbacuje gresku"
   ]
  },
  {
   "cell_type": "code",
   "execution_count": 268,
   "id": "00f60b0c",
   "metadata": {},
   "outputs": [
    {
     "data": {
      "image/png": "[encoded data removed]",
      "text/plain": [
       "<Figure size 800x400 with 1 Axes>"
      ]
     },
     "metadata": {},
     "output_type": "display_data"
    }
   ],
   "source": [
    "val_df['log10(TotalPrice)'] = np.log10(val_df['TotalPrice'])\n",
    "y_val_pred = ar_model.predict(start=val_df.index[0])\n",
    "\n",
    "plt.plot(train_df['log10(TotalPrice)'], color='b', linewidth=4, alpha=0.3, label='train')\n",
    "plt.plot(val_df['log10(TotalPrice)'], color='mediumblue', linewidth=4, alpha=0.3, label='val')\n",
    "\n",
    "plt.plot(y_val_pred, color='darkorange', label='AR model prediction')\n",
    "plt.title('predikcije za TotalPrice')\n",
    "plt.legend()\n",
    "plt.show()"
   ]
  },
  {
   "cell_type": "code",
   "execution_count": 269,
   "id": "e00df9b9",
   "metadata": {},
   "outputs": [
    {
     "data": {
      "image/png": "[encoded data removed]",
      "text/plain": [
       "<Figure size 800x400 with 1 Axes>"
      ]
     },
     "metadata": {},
     "output_type": "display_data"
    }
   ],
   "source": [
    "# predict automatski radi inverzne operacije od diferenciranja\n",
    "y_pred = ar_model.predict(start=train_df.index[p+1],end=val_df.index[5000])\n",
    "# eksponenciranje\n",
    "y_pred = np.power(10, y_pred)\n",
    "\n",
    "plt.plot(train_df['TotalPrice'], color='b', linewidth=4, alpha=0.3, label='train')\n",
    "plt.plot(val_df['TotalPrice'], color='mediumblue', linewidth=4, alpha=0.3, label='val')\n",
    "plt.plot(y_pred, color='darkorange', label='AR model prediction')\n",
    "plt.title('predikcije za TotalPrice')\n",
    "plt.legend()\n",
    "plt.show()"
   ]
  },
  {
   "cell_type": "code",
   "execution_count": 177,
   "id": "e0639545",
   "metadata": {},
   "outputs": [
    {
     "data": {
      "text/plain": [
       "197981"
      ]
     },
     "execution_count": 177,
     "metadata": {},
     "output_type": "execute_result"
    }
   ],
   "source": [
    "len(y_pred)"
   ]
  },
  {
   "cell_type": "code",
   "execution_count": 131,
   "id": "e883bc38",
   "metadata": {},
   "outputs": [
    {
     "data": {
      "text/html": [
       "<div>\n",
       "<style scoped>\n",
       "    .dataframe tbody tr th:only-of-type {\n",
       "        vertical-align: middle;\n",
       "    }\n",
       "\n",
       "    .dataframe tbody tr th {\n",
       "        vertical-align: top;\n",
       "    }\n",
       "\n",
       "    .dataframe thead th {\n",
       "        text-align: right;\n",
       "    }\n",
       "</style>\n",
       "<table border=\"1\" class=\"dataframe\">\n",
       "  <thead>\n",
       "    <tr style=\"text-align: right;\">\n",
       "      <th></th>\n",
       "      <th>Invoice</th>\n",
       "      <th>StockCode</th>\n",
       "      <th>Description</th>\n",
       "      <th>Quantity</th>\n",
       "      <th>InvoiceDate</th>\n",
       "      <th>Price</th>\n",
       "      <th>Customer ID</th>\n",
       "      <th>Country</th>\n",
       "      <th>TotalPrice</th>\n",
       "      <th>Day</th>\n",
       "      <th>Month</th>\n",
       "      <th>Year</th>\n",
       "      <th>log10(TotalPrice)</th>\n",
       "    </tr>\n",
       "    <tr>\n",
       "      <th>year_month</th>\n",
       "      <th></th>\n",
       "      <th></th>\n",
       "      <th></th>\n",
       "      <th></th>\n",
       "      <th></th>\n",
       "      <th></th>\n",
       "      <th></th>\n",
       "      <th></th>\n",
       "      <th></th>\n",
       "      <th></th>\n",
       "      <th></th>\n",
       "      <th></th>\n",
       "      <th></th>\n",
       "    </tr>\n",
       "  </thead>\n",
       "  <tbody>\n",
       "    <tr>\n",
       "      <th>2011-10-01</th>\n",
       "      <td>572872</td>\n",
       "      <td>85014B</td>\n",
       "      <td>RED RETROSPOT UMBRELLA</td>\n",
       "      <td>1</td>\n",
       "      <td>2011-10-26 13:27:00</td>\n",
       "      <td>5.95</td>\n",
       "      <td>15320.0</td>\n",
       "      <td>United Kingdom</td>\n",
       "      <td>5.95</td>\n",
       "      <td>26</td>\n",
       "      <td>10</td>\n",
       "      <td>2011</td>\n",
       "      <td>0.00000</td>\n",
       "    </tr>\n",
       "    <tr>\n",
       "      <th>2011-10-01</th>\n",
       "      <td>572872</td>\n",
       "      <td>15056N</td>\n",
       "      <td>EDWARDIAN PARASOL NATURAL</td>\n",
       "      <td>1</td>\n",
       "      <td>2011-10-26 13:27:00</td>\n",
       "      <td>5.95</td>\n",
       "      <td>15320.0</td>\n",
       "      <td>United Kingdom</td>\n",
       "      <td>5.95</td>\n",
       "      <td>26</td>\n",
       "      <td>10</td>\n",
       "      <td>2011</td>\n",
       "      <td>0.00000</td>\n",
       "    </tr>\n",
       "    <tr>\n",
       "      <th>2011-10-01</th>\n",
       "      <td>572872</td>\n",
       "      <td>21888</td>\n",
       "      <td>BINGO SET</td>\n",
       "      <td>2</td>\n",
       "      <td>2011-10-26 13:27:00</td>\n",
       "      <td>3.75</td>\n",
       "      <td>15320.0</td>\n",
       "      <td>United Kingdom</td>\n",
       "      <td>7.50</td>\n",
       "      <td>26</td>\n",
       "      <td>10</td>\n",
       "      <td>2011</td>\n",
       "      <td>0.30103</td>\n",
       "    </tr>\n",
       "    <tr>\n",
       "      <th>2011-10-01</th>\n",
       "      <td>572872</td>\n",
       "      <td>21912</td>\n",
       "      <td>VINTAGE SNAKES &amp; LADDERS</td>\n",
       "      <td>2</td>\n",
       "      <td>2011-10-26 13:27:00</td>\n",
       "      <td>3.75</td>\n",
       "      <td>15320.0</td>\n",
       "      <td>United Kingdom</td>\n",
       "      <td>7.50</td>\n",
       "      <td>26</td>\n",
       "      <td>10</td>\n",
       "      <td>2011</td>\n",
       "      <td>0.30103</td>\n",
       "    </tr>\n",
       "    <tr>\n",
       "      <th>2011-10-01</th>\n",
       "      <td>572872</td>\n",
       "      <td>21790</td>\n",
       "      <td>VINTAGE SNAP CARDS</td>\n",
       "      <td>2</td>\n",
       "      <td>2011-10-26 13:27:00</td>\n",
       "      <td>0.85</td>\n",
       "      <td>15320.0</td>\n",
       "      <td>United Kingdom</td>\n",
       "      <td>1.70</td>\n",
       "      <td>26</td>\n",
       "      <td>10</td>\n",
       "      <td>2011</td>\n",
       "      <td>0.30103</td>\n",
       "    </tr>\n",
       "  </tbody>\n",
       "</table>\n",
       "</div>"
      ],
      "text/plain": [
       "           Invoice StockCode                Description  Quantity  \\\n",
       "year_month                                                          \n",
       "2011-10-01  572872    85014B     RED RETROSPOT UMBRELLA         1   \n",
       "2011-10-01  572872    15056N  EDWARDIAN PARASOL NATURAL         1   \n",
       "2011-10-01  572872     21888                  BINGO SET         2   \n",
       "2011-10-01  572872     21912   VINTAGE SNAKES & LADDERS         2   \n",
       "2011-10-01  572872     21790         VINTAGE SNAP CARDS         2   \n",
       "\n",
       "                   InvoiceDate  Price Customer ID         Country  TotalPrice  \\\n",
       "year_month                                                                      \n",
       "2011-10-01 2011-10-26 13:27:00   5.95     15320.0  United Kingdom        5.95   \n",
       "2011-10-01 2011-10-26 13:27:00   5.95     15320.0  United Kingdom        5.95   \n",
       "2011-10-01 2011-10-26 13:27:00   3.75     15320.0  United Kingdom        7.50   \n",
       "2011-10-01 2011-10-26 13:27:00   3.75     15320.0  United Kingdom        7.50   \n",
       "2011-10-01 2011-10-26 13:27:00   0.85     15320.0  United Kingdom        1.70   \n",
       "\n",
       "            Day  Month  Year  log10(TotalPrice)  \n",
       "year_month                                       \n",
       "2011-10-01   26     10  2011            0.00000  \n",
       "2011-10-01   26     10  2011            0.00000  \n",
       "2011-10-01   26     10  2011            0.30103  \n",
       "2011-10-01   26     10  2011            0.30103  \n",
       "2011-10-01   26     10  2011            0.30103  "
      ]
     },
     "execution_count": 131,
     "metadata": {},
     "output_type": "execute_result"
    }
   ],
   "source": [
    "train_df.tail()"
   ]
  },
  {
   "cell_type": "code",
   "execution_count": 132,
   "id": "57c45bd8",
   "metadata": {},
   "outputs": [
    {
     "data": {
      "text/html": [
       "<div>\n",
       "<style scoped>\n",
       "    .dataframe tbody tr th:only-of-type {\n",
       "        vertical-align: middle;\n",
       "    }\n",
       "\n",
       "    .dataframe tbody tr th {\n",
       "        vertical-align: top;\n",
       "    }\n",
       "\n",
       "    .dataframe thead th {\n",
       "        text-align: right;\n",
       "    }\n",
       "</style>\n",
       "<table border=\"1\" class=\"dataframe\">\n",
       "  <thead>\n",
       "    <tr style=\"text-align: right;\">\n",
       "      <th></th>\n",
       "      <th>Invoice</th>\n",
       "      <th>StockCode</th>\n",
       "      <th>Description</th>\n",
       "      <th>Quantity</th>\n",
       "      <th>InvoiceDate</th>\n",
       "      <th>Price</th>\n",
       "      <th>Customer ID</th>\n",
       "      <th>Country</th>\n",
       "      <th>TotalPrice</th>\n",
       "      <th>Day</th>\n",
       "      <th>Month</th>\n",
       "      <th>Year</th>\n",
       "      <th>log10(TotalPrice)</th>\n",
       "    </tr>\n",
       "    <tr>\n",
       "      <th>year_month</th>\n",
       "      <th></th>\n",
       "      <th></th>\n",
       "      <th></th>\n",
       "      <th></th>\n",
       "      <th></th>\n",
       "      <th></th>\n",
       "      <th></th>\n",
       "      <th></th>\n",
       "      <th></th>\n",
       "      <th></th>\n",
       "      <th></th>\n",
       "      <th></th>\n",
       "      <th></th>\n",
       "    </tr>\n",
       "  </thead>\n",
       "  <tbody>\n",
       "    <tr>\n",
       "      <th>2011-10-01</th>\n",
       "      <td>572872</td>\n",
       "      <td>22113</td>\n",
       "      <td>GREY HEART HOT WATER BOTTLE</td>\n",
       "      <td>2</td>\n",
       "      <td>2011-10-26 13:27:00</td>\n",
       "      <td>4.25</td>\n",
       "      <td>15320.0</td>\n",
       "      <td>United Kingdom</td>\n",
       "      <td>8.50</td>\n",
       "      <td>26</td>\n",
       "      <td>10</td>\n",
       "      <td>2011</td>\n",
       "      <td>0.929419</td>\n",
       "    </tr>\n",
       "    <tr>\n",
       "      <th>2011-10-01</th>\n",
       "      <td>572872</td>\n",
       "      <td>22669</td>\n",
       "      <td>RED BABY BUNTING</td>\n",
       "      <td>5</td>\n",
       "      <td>2011-10-26 13:27:00</td>\n",
       "      <td>2.95</td>\n",
       "      <td>15320.0</td>\n",
       "      <td>United Kingdom</td>\n",
       "      <td>14.75</td>\n",
       "      <td>26</td>\n",
       "      <td>10</td>\n",
       "      <td>2011</td>\n",
       "      <td>1.168792</td>\n",
       "    </tr>\n",
       "    <tr>\n",
       "      <th>2011-10-01</th>\n",
       "      <td>572872</td>\n",
       "      <td>84030E</td>\n",
       "      <td>ENGLISH ROSE HOT WATER BOTTLE</td>\n",
       "      <td>2</td>\n",
       "      <td>2011-10-26 13:27:00</td>\n",
       "      <td>4.25</td>\n",
       "      <td>15320.0</td>\n",
       "      <td>United Kingdom</td>\n",
       "      <td>8.50</td>\n",
       "      <td>26</td>\n",
       "      <td>10</td>\n",
       "      <td>2011</td>\n",
       "      <td>0.929419</td>\n",
       "    </tr>\n",
       "    <tr>\n",
       "      <th>2011-10-01</th>\n",
       "      <td>572872</td>\n",
       "      <td>22620</td>\n",
       "      <td>4 TRADITIONAL SPINNING TOPS</td>\n",
       "      <td>2</td>\n",
       "      <td>2011-10-26 13:27:00</td>\n",
       "      <td>1.45</td>\n",
       "      <td>15320.0</td>\n",
       "      <td>United Kingdom</td>\n",
       "      <td>2.90</td>\n",
       "      <td>26</td>\n",
       "      <td>10</td>\n",
       "      <td>2011</td>\n",
       "      <td>0.462398</td>\n",
       "    </tr>\n",
       "    <tr>\n",
       "      <th>2011-10-01</th>\n",
       "      <td>572873</td>\n",
       "      <td>22086</td>\n",
       "      <td>PAPER CHAIN KIT 50'S CHRISTMAS</td>\n",
       "      <td>6</td>\n",
       "      <td>2011-10-26 13:27:00</td>\n",
       "      <td>2.95</td>\n",
       "      <td>12820.0</td>\n",
       "      <td>United Kingdom</td>\n",
       "      <td>17.70</td>\n",
       "      <td>26</td>\n",
       "      <td>10</td>\n",
       "      <td>2011</td>\n",
       "      <td>1.247973</td>\n",
       "    </tr>\n",
       "  </tbody>\n",
       "</table>\n",
       "</div>"
      ],
      "text/plain": [
       "           Invoice StockCode                      Description  Quantity  \\\n",
       "year_month                                                                \n",
       "2011-10-01  572872     22113      GREY HEART HOT WATER BOTTLE         2   \n",
       "2011-10-01  572872     22669                RED BABY BUNTING          5   \n",
       "2011-10-01  572872    84030E    ENGLISH ROSE HOT WATER BOTTLE         2   \n",
       "2011-10-01  572872     22620      4 TRADITIONAL SPINNING TOPS         2   \n",
       "2011-10-01  572873     22086  PAPER CHAIN KIT 50'S CHRISTMAS          6   \n",
       "\n",
       "                   InvoiceDate  Price Customer ID         Country  TotalPrice  \\\n",
       "year_month                                                                      \n",
       "2011-10-01 2011-10-26 13:27:00   4.25     15320.0  United Kingdom        8.50   \n",
       "2011-10-01 2011-10-26 13:27:00   2.95     15320.0  United Kingdom       14.75   \n",
       "2011-10-01 2011-10-26 13:27:00   4.25     15320.0  United Kingdom        8.50   \n",
       "2011-10-01 2011-10-26 13:27:00   1.45     15320.0  United Kingdom        2.90   \n",
       "2011-10-01 2011-10-26 13:27:00   2.95     12820.0  United Kingdom       17.70   \n",
       "\n",
       "            Day  Month  Year  log10(TotalPrice)  \n",
       "year_month                                       \n",
       "2011-10-01   26     10  2011           0.929419  \n",
       "2011-10-01   26     10  2011           1.168792  \n",
       "2011-10-01   26     10  2011           0.929419  \n",
       "2011-10-01   26     10  2011           0.462398  \n",
       "2011-10-01   26     10  2011           1.247973  "
      ]
     },
     "execution_count": 132,
     "metadata": {},
     "output_type": "execute_result"
    }
   ],
   "source": [
    "val_df.head()"
   ]
  },
  {
   "cell_type": "code",
   "execution_count": 159,
   "id": "c9499476",
   "metadata": {},
   "outputs": [
    {
     "data": {
      "text/plain": [
       "54950"
      ]
     },
     "execution_count": 159,
     "metadata": {},
     "output_type": "execute_result"
    }
   ],
   "source": [
    "len(val_df)"
   ]
  },
  {
   "cell_type": "code",
   "execution_count": 160,
   "id": "e55cf0a6",
   "metadata": {},
   "outputs": [],
   "source": [
    "#Implementacija Arima modela\n"
   ]
  },
  {
   "cell_type": "code",
   "execution_count": 161,
   "id": "481078a8",
   "metadata": {},
   "outputs": [
    {
     "data": {
      "image/png": "[encoded data removed]",
      "text/plain": [
       "<Figure size 800x400 with 1 Axes>"
      ]
     },
     "metadata": {},
     "output_type": "display_data"
    }
   ],
   "source": [
    "plot_acf(train_df['TotalPrice'].dropna(), lags=20)\n",
    "plt.show()"
   ]
  },
  {
   "cell_type": "code",
   "execution_count": 167,
   "id": "adb040b3",
   "metadata": {},
   "outputs": [
    {
     "data": {
      "text/plain": [
       "2671"
      ]
     },
     "execution_count": 167,
     "metadata": {},
     "output_type": "execute_result"
    }
   ],
   "source": [
    "gc.collect()"
   ]
  },
  {
   "cell_type": "code",
   "execution_count": 168,
   "id": "4acee84e",
   "metadata": {},
   "outputs": [
    {
     "name": "stderr",
     "output_type": "stream",
     "text": [
      "C:\\Users\\Dakic\\anaconda3\\Lib\\site-packages\\statsmodels\\tsa\\base\\tsa_model.py:473: ValueWarning: A date index has been provided, but it has no associated frequency information and so will be ignored when e.g. forecasting.\n",
      "  self._init_dates(dates, freq)\n",
      "C:\\Users\\Dakic\\anaconda3\\Lib\\site-packages\\statsmodels\\tsa\\base\\tsa_model.py:473: ValueWarning: A date index has been provided, but it has no associated frequency information and so will be ignored when e.g. forecasting.\n",
      "  self._init_dates(dates, freq)\n",
      "C:\\Users\\Dakic\\anaconda3\\Lib\\site-packages\\statsmodels\\tsa\\base\\tsa_model.py:473: ValueWarning: A date index has been provided, but it has no associated frequency information and so will be ignored when e.g. forecasting.\n",
      "  self._init_dates(dates, freq)\n",
      "C:\\Users\\Dakic\\anaconda3\\Lib\\site-packages\\statsmodels\\base\\model.py:607: ConvergenceWarning: Maximum Likelihood optimization failed to converge. Check mle_retvals\n",
      "  warnings.warn(\"Maximum Likelihood optimization failed to \"\n"
     ]
    },
    {
     "data": {
      "image/png": "[encoded data removed]",
      "text/plain": [
       "<Figure size 800x400 with 1 Axes>"
      ]
     },
     "metadata": {},
     "output_type": "display_data"
    }
   ],
   "source": [
    "p, d, q = 12, 2, 2\n",
    "arima_model = ARIMA(train_df['log10(TotalPrice)'], order=(p, d, q)).fit()\n",
    "\n",
    "y_pred_arima = arima_model.predict(start=train_df.index[p+1], end=val_df.index[5000])\n",
    "y_pred_arima = np.power(10, y_pred_arima)\n",
    "\n",
    "plt.plot(train_df['TotalPrice'], color='b', linewidth=4, alpha=0.3, label='train')\n",
    "plt.plot(val_df['TotalPrice'], color='mediumblue', linewidth=4, alpha=0.3, label='val')\n",
    "plt.plot(y_pred, color='darkorange', label='AR model prediction')\n",
    "plt.plot(y_pred_arima, color='k', label='ARIMA model prediction')\n",
    "plt.title('predikcije za TotalPrice')\n",
    "plt.legend()\n",
    "plt.show()"
   ]
  },
  {
   "cell_type": "code",
   "execution_count": null,
   "id": "c314dd81",
   "metadata": {},
   "outputs": [],
   "source": [
    "#Evaluacija resenja i pronalazenje najboljeg modela"
   ]
  },
  {
   "cell_type": "code",
   "execution_count": 186,
   "id": "e92617ed",
   "metadata": {},
   "outputs": [
    {
     "name": "stdout",
     "output_type": "stream",
     "text": [
      "AR model evaluacija nad validacionim skupom:\n",
      "mse(actual, ar_pred)=9304.11 mae(actual, ar_pred)=18.21\n",
      "\n",
      "ARIMA model evaluacija nad validacionim skupom:\n",
      "mse(actual, arima_pred)=9575.12 mae(actual, arima_pred)=19.26\n"
     ]
    }
   ],
   "source": [
    "\n",
    "from sklearn.metrics import mean_absolute_error, mean_squared_error, mean_absolute_percentage_error\n",
    "mse = mean_squared_error\n",
    "mae = mean_absolute_error\n",
    "mape = mean_absolute_percentage_error\n",
    "\n",
    "actual = val_df['TotalPrice']\n",
    "actual=actual[:5000]\n",
    "ar_pred = ar_model.predict(start=val_df.index[0])\n",
    "ar_pred = np.power(10, ar_pred) \n",
    "ar_pred=ar_pred[:5000]\n",
    "print('AR model evaluacija nad validacionim skupom:')\n",
    "print(f'{mse(actual, ar_pred)=:.2f}', f'{mae(actual, ar_pred)=:.2f}')\n",
    "\n",
    "arima_pred = arima_model.predict(start=val_df.index[0])\n",
    "arima_pred = np.power(10, arima_pred) \n",
    "arima_pred=arima_pred[:5000]\n",
    "print('\\nARIMA model evaluacija nad validacionim skupom:')\n",
    "print(f'{mse(actual, arima_pred)=:.2f}', f'{mae(actual, arima_pred)=:.2f}')"
   ]
  },
  {
   "cell_type": "code",
   "execution_count": null,
   "id": "8557f06a",
   "metadata": {},
   "outputs": [],
   "source": [
    "#PRedikcija buducih vrednosti nije bila moguca kao sto ovde mozetye videti po eroru, nisam pronasla adekvatan nacin kako bih\n",
    "#redukovala set za ovaj korak tako da sam ostavila kao dokaz "
   ]
  },
  {
   "cell_type": "code",
   "execution_count": 187,
   "id": "dcffe813",
   "metadata": {},
   "outputs": [
    {
     "name": "stderr",
     "output_type": "stream",
     "text": [
      "C:\\Users\\Dakic\\anaconda3\\Lib\\site-packages\\statsmodels\\tsa\\base\\tsa_model.py:473: ValueWarning: A date index has been provided, but it has no associated frequency information and so will be ignored when e.g. forecasting.\n",
      "  self._init_dates(dates, freq)\n",
      "C:\\Users\\Dakic\\anaconda3\\Lib\\site-packages\\statsmodels\\tsa\\base\\tsa_model.py:473: ValueWarning: A date index has been provided, but it has no associated frequency information and so will be ignored when e.g. forecasting.\n",
      "  self._init_dates(dates, freq)\n",
      "C:\\Users\\Dakic\\anaconda3\\Lib\\site-packages\\statsmodels\\tsa\\base\\tsa_model.py:473: ValueWarning: A date index has been provided, but it has no associated frequency information and so will be ignored when e.g. forecasting.\n",
      "  self._init_dates(dates, freq)\n",
      "C:\\Users\\Dakic\\anaconda3\\Lib\\site-packages\\statsmodels\\tsa\\statespace\\sarimax.py:966: UserWarning: Non-stationary starting autoregressive parameters found. Using zeros as starting parameters.\n",
      "  warn('Non-stationary starting autoregressive parameters'\n",
      "C:\\Users\\Dakic\\anaconda3\\Lib\\site-packages\\statsmodels\\tsa\\statespace\\sarimax.py:978: UserWarning: Non-invertible starting MA parameters found. Using zeros as starting parameters.\n",
      "  warn('Non-invertible starting MA parameters found.'\n",
      "C:\\Users\\Dakic\\anaconda3\\Lib\\site-packages\\statsmodels\\base\\model.py:607: ConvergenceWarning: Maximum Likelihood optimization failed to converge. Check mle_retvals\n",
      "  warnings.warn(\"Maximum Likelihood optimization failed to \"\n",
      "C:\\Users\\Dakic\\anaconda3\\Lib\\site-packages\\statsmodels\\tsa\\base\\tsa_model.py:836: ValueWarning: No supported index is available. Prediction results will be given with an integer index beginning at `start`.\n",
      "  return get_prediction_index(\n",
      "C:\\Users\\Dakic\\anaconda3\\Lib\\site-packages\\statsmodels\\tsa\\base\\tsa_model.py:836: FutureWarning: No supported index is available. In the next version, calling this method in a model without a supported index will result in an exception.\n",
      "  return get_prediction_index(\n",
      "C:\\Users\\Dakic\\anaconda3\\Lib\\site-packages\\statsmodels\\tsa\\base\\tsa_model.py:473: ValueWarning: A date index has been provided, but it has no associated frequency information and so will be ignored when e.g. forecasting.\n",
      "  self._init_dates(dates, freq)\n",
      "C:\\Users\\Dakic\\anaconda3\\Lib\\site-packages\\statsmodels\\tsa\\base\\tsa_model.py:473: ValueWarning: A date index has been provided, but it has no associated frequency information and so will be ignored when e.g. forecasting.\n",
      "  self._init_dates(dates, freq)\n",
      "C:\\Users\\Dakic\\anaconda3\\Lib\\site-packages\\statsmodels\\tsa\\base\\tsa_model.py:473: ValueWarning: A date index has been provided, but it has no associated frequency information and so will be ignored when e.g. forecasting.\n",
      "  self._init_dates(dates, freq)\n",
      "C:\\Users\\Dakic\\anaconda3\\Lib\\site-packages\\statsmodels\\tsa\\statespace\\sarimax.py:966: UserWarning: Non-stationary starting autoregressive parameters found. Using zeros as starting parameters.\n",
      "  warn('Non-stationary starting autoregressive parameters'\n",
      "C:\\Users\\Dakic\\anaconda3\\Lib\\site-packages\\statsmodels\\tsa\\statespace\\sarimax.py:978: UserWarning: Non-invertible starting MA parameters found. Using zeros as starting parameters.\n",
      "  warn('Non-invertible starting MA parameters found.'\n"
     ]
    },
    {
     "ename": "MemoryError",
     "evalue": "Unable to allocate 329. MiB for an array with shape (14, 14, 219798) and data type float64",
     "output_type": "error",
     "traceback": [
      "\u001b[1;31m---------------------------------------------------------------------------\u001b[0m",
      "\u001b[1;31mMemoryError\u001b[0m                               Traceback (most recent call last)",
      "Cell \u001b[1;32mIn[187], line 18\u001b[0m\n\u001b[0;32m     16\u001b[0m \u001b[38;5;66;03m# evaluiramo\u001b[39;00m\n\u001b[0;32m     17\u001b[0m actual \u001b[38;5;241m=\u001b[39m val_df[\u001b[38;5;124m'\u001b[39m\u001b[38;5;124mTotalPrice\u001b[39m\u001b[38;5;124m'\u001b[39m]\n\u001b[1;32m---> 18\u001b[0m wf_pred \u001b[38;5;241m=\u001b[39m walk_forward_loop(train_df, val_df, column_name\u001b[38;5;241m=\u001b[39m\u001b[38;5;124m'\u001b[39m\u001b[38;5;124mlog10(TotalPrice)\u001b[39m\u001b[38;5;124m'\u001b[39m, order\u001b[38;5;241m=\u001b[39m(p, d, q))\n\u001b[0;32m     19\u001b[0m wf_pred \u001b[38;5;241m=\u001b[39m np\u001b[38;5;241m.\u001b[39mpower(\u001b[38;5;241m10\u001b[39m, wf_pred)\n\u001b[0;32m     20\u001b[0m \u001b[38;5;28mprint\u001b[39m(\u001b[38;5;124m'\u001b[39m\u001b[38;5;124mARIMA walk-forward evaluacija nad validacionim skupom:\u001b[39m\u001b[38;5;124m'\u001b[39m)\n",
      "Cell \u001b[1;32mIn[187], line 6\u001b[0m, in \u001b[0;36mwalk_forward_loop\u001b[1;34m(train_df, val_df, column_name, order)\u001b[0m\n\u001b[0;32m      3\u001b[0m wf_pred \u001b[38;5;241m=\u001b[39m pd\u001b[38;5;241m.\u001b[39mSeries() \u001b[38;5;66;03m# serija predikcija koju iterativno popunjavamo\u001b[39;00m\n\u001b[0;32m      5\u001b[0m \u001b[38;5;28;01mfor\u001b[39;00m i \u001b[38;5;129;01min\u001b[39;00m \u001b[38;5;28mrange\u001b[39m(\u001b[38;5;28mlen\u001b[39m(val_df)):\n\u001b[1;32m----> 6\u001b[0m     wf_model \u001b[38;5;241m=\u001b[39m ARIMA(history, order\u001b[38;5;241m=\u001b[39morder)\u001b[38;5;241m.\u001b[39mfit()\n\u001b[0;32m      7\u001b[0m     \u001b[38;5;66;03m# sačuvaj predikciju\u001b[39;00m\n\u001b[0;32m      8\u001b[0m     y_pred \u001b[38;5;241m=\u001b[39m wf_model\u001b[38;5;241m.\u001b[39mforecast(steps\u001b[38;5;241m=\u001b[39m\u001b[38;5;241m1\u001b[39m)\n",
      "File \u001b[1;32m~\\anaconda3\\Lib\\site-packages\\statsmodels\\tsa\\arima\\model.py:395\u001b[0m, in \u001b[0;36mARIMA.fit\u001b[1;34m(self, start_params, transformed, includes_fixed, method, method_kwargs, gls, gls_kwargs, cov_type, cov_kwds, return_params, low_memory)\u001b[0m\n\u001b[0;32m    392\u001b[0m \u001b[38;5;28;01melse\u001b[39;00m:\n\u001b[0;32m    393\u001b[0m     method_kwargs\u001b[38;5;241m.\u001b[39msetdefault(\u001b[38;5;124m'\u001b[39m\u001b[38;5;124mdisp\u001b[39m\u001b[38;5;124m'\u001b[39m, \u001b[38;5;241m0\u001b[39m)\n\u001b[1;32m--> 395\u001b[0m     res \u001b[38;5;241m=\u001b[39m \u001b[38;5;28msuper\u001b[39m()\u001b[38;5;241m.\u001b[39mfit(\n\u001b[0;32m    396\u001b[0m         return_params\u001b[38;5;241m=\u001b[39mreturn_params, low_memory\u001b[38;5;241m=\u001b[39mlow_memory,\n\u001b[0;32m    397\u001b[0m         cov_type\u001b[38;5;241m=\u001b[39mcov_type, cov_kwds\u001b[38;5;241m=\u001b[39mcov_kwds, \u001b[38;5;241m*\u001b[39m\u001b[38;5;241m*\u001b[39mmethod_kwargs)\n\u001b[0;32m    398\u001b[0m     \u001b[38;5;28;01mif\u001b[39;00m \u001b[38;5;129;01mnot\u001b[39;00m return_params:\n\u001b[0;32m    399\u001b[0m         res\u001b[38;5;241m.\u001b[39mfit_details \u001b[38;5;241m=\u001b[39m res\u001b[38;5;241m.\u001b[39mmlefit\n",
      "File \u001b[1;32m~\\anaconda3\\Lib\\site-packages\\statsmodels\\tsa\\statespace\\mlemodel.py:728\u001b[0m, in \u001b[0;36mMLEModel.fit\u001b[1;34m(self, start_params, transformed, includes_fixed, cov_type, cov_kwds, method, maxiter, full_output, disp, callback, return_params, optim_score, optim_complex_step, optim_hessian, flags, low_memory, **kwargs)\u001b[0m\n\u001b[0;32m    726\u001b[0m \u001b[38;5;28;01melse\u001b[39;00m:\n\u001b[0;32m    727\u001b[0m     func \u001b[38;5;241m=\u001b[39m \u001b[38;5;28mself\u001b[39m\u001b[38;5;241m.\u001b[39msmooth\n\u001b[1;32m--> 728\u001b[0m res \u001b[38;5;241m=\u001b[39m func(mlefit\u001b[38;5;241m.\u001b[39mparams, transformed\u001b[38;5;241m=\u001b[39m\u001b[38;5;28;01mFalse\u001b[39;00m, includes_fixed\u001b[38;5;241m=\u001b[39m\u001b[38;5;28;01mFalse\u001b[39;00m,\n\u001b[0;32m    729\u001b[0m            cov_type\u001b[38;5;241m=\u001b[39mcov_type, cov_kwds\u001b[38;5;241m=\u001b[39mcov_kwds)\n\u001b[0;32m    731\u001b[0m res\u001b[38;5;241m.\u001b[39mmlefit \u001b[38;5;241m=\u001b[39m mlefit\n\u001b[0;32m    732\u001b[0m res\u001b[38;5;241m.\u001b[39mmle_retvals \u001b[38;5;241m=\u001b[39m mlefit\u001b[38;5;241m.\u001b[39mmle_retvals\n",
      "File \u001b[1;32m~\\anaconda3\\Lib\\site-packages\\statsmodels\\tsa\\statespace\\mlemodel.py:886\u001b[0m, in \u001b[0;36mMLEModel.smooth\u001b[1;34m(self, params, transformed, includes_fixed, complex_step, cov_type, cov_kwds, return_ssm, results_class, results_wrapper_class, **kwargs)\u001b[0m\n\u001b[0;32m    883\u001b[0m     kwargs[\u001b[38;5;124m'\u001b[39m\u001b[38;5;124minversion_method\u001b[39m\u001b[38;5;124m'\u001b[39m] \u001b[38;5;241m=\u001b[39m INVERT_UNIVARIATE \u001b[38;5;241m|\u001b[39m SOLVE_LU\n\u001b[0;32m    885\u001b[0m \u001b[38;5;66;03m# Get the state space output\u001b[39;00m\n\u001b[1;32m--> 886\u001b[0m result \u001b[38;5;241m=\u001b[39m \u001b[38;5;28mself\u001b[39m\u001b[38;5;241m.\u001b[39mssm\u001b[38;5;241m.\u001b[39msmooth(complex_step\u001b[38;5;241m=\u001b[39mcomplex_step, \u001b[38;5;241m*\u001b[39m\u001b[38;5;241m*\u001b[39mkwargs)\n\u001b[0;32m    888\u001b[0m \u001b[38;5;66;03m# Wrap in a results object\u001b[39;00m\n\u001b[0;32m    889\u001b[0m \u001b[38;5;28;01mreturn\u001b[39;00m \u001b[38;5;28mself\u001b[39m\u001b[38;5;241m.\u001b[39m_wrap_results(params, result, return_ssm, cov_type,\n\u001b[0;32m    890\u001b[0m                           cov_kwds, results_class,\n\u001b[0;32m    891\u001b[0m                           results_wrapper_class)\n",
      "File \u001b[1;32m~\\anaconda3\\Lib\\site-packages\\statsmodels\\tsa\\statespace\\kalman_smoother.py:410\u001b[0m, in \u001b[0;36mKalmanSmoother.smooth\u001b[1;34m(self, smoother_output, smooth_method, results, run_filter, prefix, complex_step, update_representation, update_filter, update_smoother, **kwargs)\u001b[0m\n\u001b[0;32m    408\u001b[0m     results\u001b[38;5;241m.\u001b[39mupdate_representation(\u001b[38;5;28mself\u001b[39m)\n\u001b[0;32m    409\u001b[0m \u001b[38;5;28;01mif\u001b[39;00m update_filter:\n\u001b[1;32m--> 410\u001b[0m     results\u001b[38;5;241m.\u001b[39mupdate_filter(kfilter)\n\u001b[0;32m    411\u001b[0m \u001b[38;5;28;01melse\u001b[39;00m:\n\u001b[0;32m    412\u001b[0m     \u001b[38;5;66;03m# (even if we don't update all filter results, still need to\u001b[39;00m\n\u001b[0;32m    413\u001b[0m     \u001b[38;5;66;03m# update this)\u001b[39;00m\n\u001b[0;32m    414\u001b[0m     results\u001b[38;5;241m.\u001b[39mnobs_diffuse \u001b[38;5;241m=\u001b[39m kfilter\u001b[38;5;241m.\u001b[39mnobs_diffuse\n",
      "File \u001b[1;32m~\\anaconda3\\Lib\\site-packages\\statsmodels\\tsa\\statespace\\kalman_filter.py:1545\u001b[0m, in \u001b[0;36mFilterResults.update_filter\u001b[1;34m(self, kalman_filter)\u001b[0m\n\u001b[0;32m   1539\u001b[0m \u001b[38;5;28mself\u001b[39m\u001b[38;5;241m.\u001b[39mfiltered_state_cov \u001b[38;5;241m=\u001b[39m np\u001b[38;5;241m.\u001b[39marray(\n\u001b[0;32m   1540\u001b[0m     kalman_filter\u001b[38;5;241m.\u001b[39mfiltered_state_cov, copy\u001b[38;5;241m=\u001b[39m\u001b[38;5;28;01mTrue\u001b[39;00m\n\u001b[0;32m   1541\u001b[0m )\n\u001b[0;32m   1542\u001b[0m \u001b[38;5;28mself\u001b[39m\u001b[38;5;241m.\u001b[39mpredicted_state \u001b[38;5;241m=\u001b[39m np\u001b[38;5;241m.\u001b[39marray(\n\u001b[0;32m   1543\u001b[0m     kalman_filter\u001b[38;5;241m.\u001b[39mpredicted_state, copy\u001b[38;5;241m=\u001b[39m\u001b[38;5;28;01mTrue\u001b[39;00m\n\u001b[0;32m   1544\u001b[0m )\n\u001b[1;32m-> 1545\u001b[0m \u001b[38;5;28mself\u001b[39m\u001b[38;5;241m.\u001b[39mpredicted_state_cov \u001b[38;5;241m=\u001b[39m np\u001b[38;5;241m.\u001b[39marray(\n\u001b[0;32m   1546\u001b[0m     kalman_filter\u001b[38;5;241m.\u001b[39mpredicted_state_cov, copy\u001b[38;5;241m=\u001b[39m\u001b[38;5;28;01mTrue\u001b[39;00m\n\u001b[0;32m   1547\u001b[0m )\n\u001b[0;32m   1549\u001b[0m \u001b[38;5;66;03m# Reset caches\u001b[39;00m\n\u001b[0;32m   1550\u001b[0m has_missing \u001b[38;5;241m=\u001b[39m np\u001b[38;5;241m.\u001b[39msum(\u001b[38;5;28mself\u001b[39m\u001b[38;5;241m.\u001b[39mnmissing) \u001b[38;5;241m>\u001b[39m \u001b[38;5;241m0\u001b[39m\n",
      "\u001b[1;31mMemoryError\u001b[0m: Unable to allocate 329. MiB for an array with shape (14, 14, 219798) and data type float64"
     ]
    }
   ],
   "source": [
    "def walk_forward_loop(train_df, val_df, column_name, order=(0, 0, 0)):\n",
    "    history = train_df[column_name].copy() # trening skup koji prosirujemo stvarnom vrednosti\n",
    "    wf_pred = pd.Series() # serija predikcija koju iterativno popunjavamo\n",
    "    \n",
    "    for i in range(len(val_df)):\n",
    "        wf_model = ARIMA(history, order=order).fit()\n",
    "        # sačuvaj predikciju\n",
    "        y_pred = wf_model.forecast(steps=1)\n",
    "        wf_pred = pd.concat([wf_pred, y_pred])\n",
    "        # sačuvaj stvarnu vrednost u trening skup\n",
    "        true_value = pd.Series(data=val_df.iloc[i][column_name], index=[val_df.index[i]])\n",
    "        history = pd.concat([history, true_value])\n",
    "    \n",
    "    return wf_pred\n",
    "\n",
    "# evaluiramo\n",
    "actual = val_df['TotalPrice']\n",
    "wf_pred = walk_forward_loop(train_df, val_df, column_name='log10(TotalPrice)', order=(p, d, q))\n",
    "wf_pred = np.power(10, wf_pred)\n",
    "print('ARIMA walk-forward evaluacija nad validacionim skupom:')\n",
    "print(f'{mse(actual, wf_pred)=:.2f}', f'{mae(actual, wf_pred)=:.2f}')\n",
    "\n",
    "# crtamo grafik\n",
    "plt.plot(train_df['TotalPrice'], color='b', linewidth=4, alpha=0.3, label='train')\n",
    "plt.plot(val_df['TotalPrice'], color='mediumblue', linewidth=4, alpha=0.3, label='val')\n",
    "plt.plot(wf_pred, color='darkorange', label='Walk-forward model prediction')\n",
    "plt.title('predikcije za Passengers')\n",
    "plt.legend()\n",
    "plt.show()"
   ]
  },
  {
   "cell_type": "code",
   "execution_count": null,
   "id": "3617ec22",
   "metadata": {},
   "outputs": [],
   "source": []
  }
 ],
 "metadata": {
  "kernelspec": {
   "display_name": "Python 3 (ipykernel)",
   "language": "python",
   "name": "python3"
  },
  "language_info": {
   "codemirror_mode": {
    "name": "ipython",
    "version": 3
   },
   "file_extension": ".py",
   "mimetype": "text/x-python",
   "name": "python",
   "nbconvert_exporter": "python",
   "pygments_lexer": "ipython3",
   "version": "3.12.1"
  }
 },
 "nbformat": 4,
 "nbformat_minor": 5
}
